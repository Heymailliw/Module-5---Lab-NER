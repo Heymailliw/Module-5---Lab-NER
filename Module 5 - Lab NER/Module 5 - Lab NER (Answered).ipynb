{
 "cells": [
  {
   "cell_type": "markdown",
   "id": "c039610a",
   "metadata": {},
   "source": [
    "### Install spacy if needed"
   ]
  },
  {
   "cell_type": "code",
   "execution_count": 19,
   "id": "5d2993ce",
   "metadata": {},
   "outputs": [
    {
     "name": "stdout",
     "output_type": "stream",
     "text": [
      "Requirement already satisfied: spacy in c:\\users\\william\\anaconda3\\lib\\site-packages (3.7.6)\n",
      "Requirement already satisfied: spacy-legacy<3.1.0,>=3.0.11 in c:\\users\\william\\anaconda3\\lib\\site-packages (from spacy) (3.0.12)\n",
      "Requirement already satisfied: spacy-loggers<2.0.0,>=1.0.0 in c:\\users\\william\\anaconda3\\lib\\site-packages (from spacy) (1.0.5)\n",
      "Requirement already satisfied: murmurhash<1.1.0,>=0.28.0 in c:\\users\\william\\anaconda3\\lib\\site-packages (from spacy) (1.0.10)\n",
      "Requirement already satisfied: cymem<2.1.0,>=2.0.2 in c:\\users\\william\\anaconda3\\lib\\site-packages (from spacy) (2.0.8)\n",
      "Requirement already satisfied: preshed<3.1.0,>=3.0.2 in c:\\users\\william\\anaconda3\\lib\\site-packages (from spacy) (3.0.9)\n",
      "Requirement already satisfied: thinc<8.3.0,>=8.2.2 in c:\\users\\william\\anaconda3\\lib\\site-packages (from spacy) (8.2.5)\n",
      "Requirement already satisfied: wasabi<1.2.0,>=0.9.1 in c:\\users\\william\\anaconda3\\lib\\site-packages (from spacy) (1.1.3)\n",
      "Requirement already satisfied: srsly<3.0.0,>=2.4.3 in c:\\users\\william\\anaconda3\\lib\\site-packages (from spacy) (2.4.8)\n",
      "Requirement already satisfied: catalogue<2.1.0,>=2.0.6 in c:\\users\\william\\anaconda3\\lib\\site-packages (from spacy) (2.0.10)\n",
      "Requirement already satisfied: weasel<0.5.0,>=0.1.0 in c:\\users\\william\\anaconda3\\lib\\site-packages (from spacy) (0.4.1)\n",
      "Requirement already satisfied: typer<1.0.0,>=0.3.0 in c:\\users\\william\\anaconda3\\lib\\site-packages (from spacy) (0.12.5)\n",
      "Requirement already satisfied: tqdm<5.0.0,>=4.38.0 in c:\\users\\william\\anaconda3\\lib\\site-packages (from spacy) (4.65.0)\n",
      "Requirement already satisfied: requests<3.0.0,>=2.13.0 in c:\\users\\william\\anaconda3\\lib\\site-packages (from spacy) (2.31.0)\n",
      "Requirement already satisfied: pydantic!=1.8,!=1.8.1,<3.0.0,>=1.7.4 in c:\\users\\william\\anaconda3\\lib\\site-packages (from spacy) (1.10.12)\n",
      "Requirement already satisfied: jinja2 in c:\\users\\william\\anaconda3\\lib\\site-packages (from spacy) (3.1.3)\n",
      "Requirement already satisfied: setuptools in c:\\users\\william\\anaconda3\\lib\\site-packages (from spacy) (68.2.2)\n",
      "Requirement already satisfied: packaging>=20.0 in c:\\users\\william\\anaconda3\\lib\\site-packages (from spacy) (23.1)\n",
      "Requirement already satisfied: langcodes<4.0.0,>=3.2.0 in c:\\users\\william\\anaconda3\\lib\\site-packages (from spacy) (3.4.1)\n",
      "Requirement already satisfied: numpy>=1.19.0 in c:\\users\\william\\anaconda3\\lib\\site-packages (from spacy) (1.26.4)\n",
      "Requirement already satisfied: language-data>=1.2 in c:\\users\\william\\anaconda3\\lib\\site-packages (from langcodes<4.0.0,>=3.2.0->spacy) (1.2.0)\n",
      "Requirement already satisfied: typing-extensions>=4.2.0 in c:\\users\\william\\anaconda3\\lib\\site-packages (from pydantic!=1.8,!=1.8.1,<3.0.0,>=1.7.4->spacy) (4.9.0)\n",
      "Requirement already satisfied: charset-normalizer<4,>=2 in c:\\users\\william\\anaconda3\\lib\\site-packages (from requests<3.0.0,>=2.13.0->spacy) (2.0.4)\n",
      "Requirement already satisfied: idna<4,>=2.5 in c:\\users\\william\\anaconda3\\lib\\site-packages (from requests<3.0.0,>=2.13.0->spacy) (3.4)\n",
      "Requirement already satisfied: urllib3<3,>=1.21.1 in c:\\users\\william\\anaconda3\\lib\\site-packages (from requests<3.0.0,>=2.13.0->spacy) (2.0.7)\n",
      "Requirement already satisfied: certifi>=2017.4.17 in c:\\users\\william\\anaconda3\\lib\\site-packages (from requests<3.0.0,>=2.13.0->spacy) (2024.8.30)\n",
      "Requirement already satisfied: blis<0.8.0,>=0.7.8 in c:\\users\\william\\anaconda3\\lib\\site-packages (from thinc<8.3.0,>=8.2.2->spacy) (0.7.11)\n",
      "Requirement already satisfied: confection<1.0.0,>=0.0.1 in c:\\users\\william\\anaconda3\\lib\\site-packages (from thinc<8.3.0,>=8.2.2->spacy) (0.1.5)\n",
      "Requirement already satisfied: colorama in c:\\users\\william\\anaconda3\\lib\\site-packages (from tqdm<5.0.0,>=4.38.0->spacy) (0.4.6)\n",
      "Requirement already satisfied: click>=8.0.0 in c:\\users\\william\\anaconda3\\lib\\site-packages (from typer<1.0.0,>=0.3.0->spacy) (8.1.7)\n",
      "Requirement already satisfied: shellingham>=1.3.0 in c:\\users\\william\\anaconda3\\lib\\site-packages (from typer<1.0.0,>=0.3.0->spacy) (1.5.4)\n",
      "Requirement already satisfied: rich>=10.11.0 in c:\\users\\william\\anaconda3\\lib\\site-packages (from typer<1.0.0,>=0.3.0->spacy) (13.3.5)\n",
      "Requirement already satisfied: cloudpathlib<1.0.0,>=0.7.0 in c:\\users\\william\\anaconda3\\lib\\site-packages (from weasel<0.5.0,>=0.1.0->spacy) (0.19.0)\n",
      "Requirement already satisfied: smart-open<8.0.0,>=5.2.1 in c:\\users\\william\\anaconda3\\lib\\site-packages (from weasel<0.5.0,>=0.1.0->spacy) (5.2.1)\n",
      "Requirement already satisfied: MarkupSafe>=2.0 in c:\\users\\william\\anaconda3\\lib\\site-packages (from jinja2->spacy) (2.1.3)\n",
      "Requirement already satisfied: marisa-trie>=0.7.7 in c:\\users\\william\\anaconda3\\lib\\site-packages (from language-data>=1.2->langcodes<4.0.0,>=3.2.0->spacy) (1.2.0)\n",
      "Requirement already satisfied: markdown-it-py<3.0.0,>=2.2.0 in c:\\users\\william\\anaconda3\\lib\\site-packages (from rich>=10.11.0->typer<1.0.0,>=0.3.0->spacy) (2.2.0)\n",
      "Requirement already satisfied: pygments<3.0.0,>=2.13.0 in c:\\users\\william\\anaconda3\\lib\\site-packages (from rich>=10.11.0->typer<1.0.0,>=0.3.0->spacy) (2.15.1)\n",
      "Requirement already satisfied: mdurl~=0.1 in c:\\users\\william\\anaconda3\\lib\\site-packages (from markdown-it-py<3.0.0,>=2.2.0->rich>=10.11.0->typer<1.0.0,>=0.3.0->spacy) (0.1.0)\n",
      "Collecting en-core-web-sm==3.7.1\n",
      "  Downloading https://github.com/explosion/spacy-models/releases/download/en_core_web_sm-3.7.1/en_core_web_sm-3.7.1-py3-none-any.whl (12.8 MB)\n",
      "     ---------------------------------------- 0.0/12.8 MB ? eta -:--:--\n",
      "     --------------------------------------- 0.0/12.8 MB 640.0 kB/s eta 0:00:20\n",
      "     -- ------------------------------------- 0.8/12.8 MB 9.5 MB/s eta 0:00:02\n",
      "     -------- ------------------------------- 2.6/12.8 MB 20.6 MB/s eta 0:00:01\n",
      "     ---------------- ----------------------- 5.1/12.8 MB 29.8 MB/s eta 0:00:01\n",
      "     ------------------------ --------------- 7.8/12.8 MB 35.7 MB/s eta 0:00:01\n",
      "     ------------------------------- ------- 10.5/12.8 MB 54.7 MB/s eta 0:00:01\n",
      "     --------------------------------- ----- 10.9/12.8 MB 43.7 MB/s eta 0:00:01\n",
      "     --------------------------------------- 12.8/12.8 MB 43.5 MB/s eta 0:00:00\n",
      "Requirement already satisfied: spacy<3.8.0,>=3.7.2 in c:\\users\\william\\anaconda3\\lib\\site-packages (from en-core-web-sm==3.7.1) (3.7.6)\n",
      "Requirement already satisfied: spacy-legacy<3.1.0,>=3.0.11 in c:\\users\\william\\anaconda3\\lib\\site-packages (from spacy<3.8.0,>=3.7.2->en-core-web-sm==3.7.1) (3.0.12)\n",
      "Requirement already satisfied: spacy-loggers<2.0.0,>=1.0.0 in c:\\users\\william\\anaconda3\\lib\\site-packages (from spacy<3.8.0,>=3.7.2->en-core-web-sm==3.7.1) (1.0.5)\n",
      "Requirement already satisfied: murmurhash<1.1.0,>=0.28.0 in c:\\users\\william\\anaconda3\\lib\\site-packages (from spacy<3.8.0,>=3.7.2->en-core-web-sm==3.7.1) (1.0.10)\n",
      "Requirement already satisfied: cymem<2.1.0,>=2.0.2 in c:\\users\\william\\anaconda3\\lib\\site-packages (from spacy<3.8.0,>=3.7.2->en-core-web-sm==3.7.1) (2.0.8)\n",
      "Requirement already satisfied: preshed<3.1.0,>=3.0.2 in c:\\users\\william\\anaconda3\\lib\\site-packages (from spacy<3.8.0,>=3.7.2->en-core-web-sm==3.7.1) (3.0.9)\n",
      "Requirement already satisfied: thinc<8.3.0,>=8.2.2 in c:\\users\\william\\anaconda3\\lib\\site-packages (from spacy<3.8.0,>=3.7.2->en-core-web-sm==3.7.1) (8.2.5)\n",
      "Requirement already satisfied: wasabi<1.2.0,>=0.9.1 in c:\\users\\william\\anaconda3\\lib\\site-packages (from spacy<3.8.0,>=3.7.2->en-core-web-sm==3.7.1) (1.1.3)\n",
      "Requirement already satisfied: srsly<3.0.0,>=2.4.3 in c:\\users\\william\\anaconda3\\lib\\site-packages (from spacy<3.8.0,>=3.7.2->en-core-web-sm==3.7.1) (2.4.8)\n",
      "Requirement already satisfied: catalogue<2.1.0,>=2.0.6 in c:\\users\\william\\anaconda3\\lib\\site-packages (from spacy<3.8.0,>=3.7.2->en-core-web-sm==3.7.1) (2.0.10)\n",
      "Requirement already satisfied: weasel<0.5.0,>=0.1.0 in c:\\users\\william\\anaconda3\\lib\\site-packages (from spacy<3.8.0,>=3.7.2->en-core-web-sm==3.7.1) (0.4.1)\n",
      "Requirement already satisfied: typer<1.0.0,>=0.3.0 in c:\\users\\william\\anaconda3\\lib\\site-packages (from spacy<3.8.0,>=3.7.2->en-core-web-sm==3.7.1) (0.12.5)\n",
      "Requirement already satisfied: tqdm<5.0.0,>=4.38.0 in c:\\users\\william\\anaconda3\\lib\\site-packages (from spacy<3.8.0,>=3.7.2->en-core-web-sm==3.7.1) (4.65.0)\n",
      "Requirement already satisfied: requests<3.0.0,>=2.13.0 in c:\\users\\william\\anaconda3\\lib\\site-packages (from spacy<3.8.0,>=3.7.2->en-core-web-sm==3.7.1) (2.31.0)\n",
      "Requirement already satisfied: pydantic!=1.8,!=1.8.1,<3.0.0,>=1.7.4 in c:\\users\\william\\anaconda3\\lib\\site-packages (from spacy<3.8.0,>=3.7.2->en-core-web-sm==3.7.1) (1.10.12)\n",
      "Requirement already satisfied: jinja2 in c:\\users\\william\\anaconda3\\lib\\site-packages (from spacy<3.8.0,>=3.7.2->en-core-web-sm==3.7.1) (3.1.3)\n",
      "Requirement already satisfied: setuptools in c:\\users\\william\\anaconda3\\lib\\site-packages (from spacy<3.8.0,>=3.7.2->en-core-web-sm==3.7.1) (68.2.2)\n",
      "Requirement already satisfied: packaging>=20.0 in c:\\users\\william\\anaconda3\\lib\\site-packages (from spacy<3.8.0,>=3.7.2->en-core-web-sm==3.7.1) (23.1)\n",
      "Requirement already satisfied: langcodes<4.0.0,>=3.2.0 in c:\\users\\william\\anaconda3\\lib\\site-packages (from spacy<3.8.0,>=3.7.2->en-core-web-sm==3.7.1) (3.4.1)\n",
      "Requirement already satisfied: numpy>=1.19.0 in c:\\users\\william\\anaconda3\\lib\\site-packages (from spacy<3.8.0,>=3.7.2->en-core-web-sm==3.7.1) (1.26.4)\n",
      "Requirement already satisfied: language-data>=1.2 in c:\\users\\william\\anaconda3\\lib\\site-packages (from langcodes<4.0.0,>=3.2.0->spacy<3.8.0,>=3.7.2->en-core-web-sm==3.7.1) (1.2.0)\n",
      "Requirement already satisfied: typing-extensions>=4.2.0 in c:\\users\\william\\anaconda3\\lib\\site-packages (from pydantic!=1.8,!=1.8.1,<3.0.0,>=1.7.4->spacy<3.8.0,>=3.7.2->en-core-web-sm==3.7.1) (4.9.0)\n",
      "Requirement already satisfied: charset-normalizer<4,>=2 in c:\\users\\william\\anaconda3\\lib\\site-packages (from requests<3.0.0,>=2.13.0->spacy<3.8.0,>=3.7.2->en-core-web-sm==3.7.1) (2.0.4)\n",
      "Requirement already satisfied: idna<4,>=2.5 in c:\\users\\william\\anaconda3\\lib\\site-packages (from requests<3.0.0,>=2.13.0->spacy<3.8.0,>=3.7.2->en-core-web-sm==3.7.1) (3.4)\n",
      "Requirement already satisfied: urllib3<3,>=1.21.1 in c:\\users\\william\\anaconda3\\lib\\site-packages (from requests<3.0.0,>=2.13.0->spacy<3.8.0,>=3.7.2->en-core-web-sm==3.7.1) (2.0.7)\n",
      "Requirement already satisfied: certifi>=2017.4.17 in c:\\users\\william\\anaconda3\\lib\\site-packages (from requests<3.0.0,>=2.13.0->spacy<3.8.0,>=3.7.2->en-core-web-sm==3.7.1) (2024.8.30)\n",
      "Requirement already satisfied: blis<0.8.0,>=0.7.8 in c:\\users\\william\\anaconda3\\lib\\site-packages (from thinc<8.3.0,>=8.2.2->spacy<3.8.0,>=3.7.2->en-core-web-sm==3.7.1) (0.7.11)\n",
      "Requirement already satisfied: confection<1.0.0,>=0.0.1 in c:\\users\\william\\anaconda3\\lib\\site-packages (from thinc<8.3.0,>=8.2.2->spacy<3.8.0,>=3.7.2->en-core-web-sm==3.7.1) (0.1.5)\n",
      "Requirement already satisfied: colorama in c:\\users\\william\\anaconda3\\lib\\site-packages (from tqdm<5.0.0,>=4.38.0->spacy<3.8.0,>=3.7.2->en-core-web-sm==3.7.1) (0.4.6)\n",
      "Requirement already satisfied: click>=8.0.0 in c:\\users\\william\\anaconda3\\lib\\site-packages (from typer<1.0.0,>=0.3.0->spacy<3.8.0,>=3.7.2->en-core-web-sm==3.7.1) (8.1.7)\n",
      "Requirement already satisfied: shellingham>=1.3.0 in c:\\users\\william\\anaconda3\\lib\\site-packages (from typer<1.0.0,>=0.3.0->spacy<3.8.0,>=3.7.2->en-core-web-sm==3.7.1) (1.5.4)\n",
      "Requirement already satisfied: rich>=10.11.0 in c:\\users\\william\\anaconda3\\lib\\site-packages (from typer<1.0.0,>=0.3.0->spacy<3.8.0,>=3.7.2->en-core-web-sm==3.7.1) (13.3.5)\n",
      "Requirement already satisfied: cloudpathlib<1.0.0,>=0.7.0 in c:\\users\\william\\anaconda3\\lib\\site-packages (from weasel<0.5.0,>=0.1.0->spacy<3.8.0,>=3.7.2->en-core-web-sm==3.7.1) (0.19.0)\n",
      "Requirement already satisfied: smart-open<8.0.0,>=5.2.1 in c:\\users\\william\\anaconda3\\lib\\site-packages (from weasel<0.5.0,>=0.1.0->spacy<3.8.0,>=3.7.2->en-core-web-sm==3.7.1) (5.2.1)\n",
      "Requirement already satisfied: MarkupSafe>=2.0 in c:\\users\\william\\anaconda3\\lib\\site-packages (from jinja2->spacy<3.8.0,>=3.7.2->en-core-web-sm==3.7.1) (2.1.3)\n",
      "Requirement already satisfied: marisa-trie>=0.7.7 in c:\\users\\william\\anaconda3\\lib\\site-packages (from language-data>=1.2->langcodes<4.0.0,>=3.2.0->spacy<3.8.0,>=3.7.2->en-core-web-sm==3.7.1) (1.2.0)\n",
      "Requirement already satisfied: markdown-it-py<3.0.0,>=2.2.0 in c:\\users\\william\\anaconda3\\lib\\site-packages (from rich>=10.11.0->typer<1.0.0,>=0.3.0->spacy<3.8.0,>=3.7.2->en-core-web-sm==3.7.1) (2.2.0)\n",
      "Requirement already satisfied: pygments<3.0.0,>=2.13.0 in c:\\users\\william\\anaconda3\\lib\\site-packages (from rich>=10.11.0->typer<1.0.0,>=0.3.0->spacy<3.8.0,>=3.7.2->en-core-web-sm==3.7.1) (2.15.1)\n",
      "Requirement already satisfied: mdurl~=0.1 in c:\\users\\william\\anaconda3\\lib\\site-packages (from markdown-it-py<3.0.0,>=2.2.0->rich>=10.11.0->typer<1.0.0,>=0.3.0->spacy<3.8.0,>=3.7.2->en-core-web-sm==3.7.1) (0.1.0)\n",
      "Installing collected packages: en-core-web-sm\n",
      "Successfully installed en-core-web-sm-3.7.1\n",
      "\u001b[38;5;2m[+] Download and installation successful\u001b[0m\n",
      "You can now load the package via spacy.load('en_core_web_sm')\n"
     ]
    }
   ],
   "source": [
    "!pip install -U spacy\n",
    "\n",
    "# Install the small English model\n",
    "!python -m spacy download en_core_web_sm"
   ]
  },
  {
   "cell_type": "markdown",
   "id": "8e763e01",
   "metadata": {},
   "source": [
    "#### Import spacy"
   ]
  },
  {
   "cell_type": "code",
   "execution_count": 21,
   "id": "0297c427",
   "metadata": {},
   "outputs": [],
   "source": [
    "import spacy\n",
    "import warnings"
   ]
  },
  {
   "cell_type": "markdown",
   "id": "6be194f4",
   "metadata": {},
   "source": [
    "### remove warnings"
   ]
  },
  {
   "cell_type": "code",
   "execution_count": 23,
   "id": "b74f4a7b",
   "metadata": {},
   "outputs": [],
   "source": [
    "warnings.filterwarnings(\"ignore\")"
   ]
  },
  {
   "cell_type": "markdown",
   "id": "026379d4",
   "metadata": {},
   "source": [
    "#### Load the small English pipeline trained on written web text (blogs, news, comments), that includes vocabulary, syntax and entities (en_core_web_sm ) and assing it to a variable called \"nlp\""
   ]
  },
  {
   "cell_type": "code",
   "execution_count": 30,
   "id": "684ae267",
   "metadata": {},
   "outputs": [],
   "source": [
    "nlp = spacy.load(\"en_core_web_sm\")"
   ]
  },
  {
   "cell_type": "markdown",
   "id": "5500ac91",
   "metadata": {},
   "source": [
    "#### Create s spaCy Doc"
   ]
  },
  {
   "cell_type": "code",
   "execution_count": 33,
   "id": "f3b31959",
   "metadata": {},
   "outputs": [],
   "source": [
    "document = nlp(\n",
    "    'Machine learning (ML) is an important tool for the goal of leveraging technologies around '\n",
    "    'artificial intelligence. '\n",
    "    'Because of its learning and decision-making abilities, '\n",
    "    'machine learning is often referred to as AI, though, in reality, '\n",
    "    'it is a subdivision of AI. Until the late 1970s, it was a part of AI’s evolution. '\n",
    "    'Then, it branched off to evolve on its own. '\n",
    "    'Machine learning has become a very important response tool '\n",
    "    'for cloud computing and eCommerce, and is being used in a variety of cutting-edge technologies. '\n",
    "    'Machine learning is a necessary aspect of modern business and research '\n",
    "    'for many organizations today. '\n",
    "    'It uses algorithms and neural network models to assist computer systems '\n",
    "    'in progressively improving their performance. '\n",
    "    'Machine learning algorithms automatically build a mathematical model '\n",
    "    'using sample data – also known as “training data” – '\n",
    "    'to make decisions without being specifically programmed to make those decisions.'\n",
    ")"
   ]
  },
  {
   "cell_type": "markdown",
   "id": "a07f3495",
   "metadata": {},
   "source": [
    "#### Using a for loop, get the Named Entities from the document"
   ]
  },
  {
   "cell_type": "code",
   "execution_count": 36,
   "id": "83043877",
   "metadata": {},
   "outputs": [
    {
     "name": "stdout",
     "output_type": "stream",
     "text": [
      "ML ORG\n",
      "AI ORG\n",
      "AI ORG\n",
      "the late 1970s DATE\n",
      "AI ORG\n",
      "eCommerce PRODUCT\n",
      "today DATE\n"
     ]
    }
   ],
   "source": [
    "for ent in document.ents:\n",
    "    print(ent.text, ent.label_)"
   ]
  },
  {
   "cell_type": "markdown",
   "id": "6b6ad786",
   "metadata": {},
   "source": [
    "#### Do you agree with the results?"
   ]
  },
  {
   "cell_type": "markdown",
   "id": "cbcec488-011d-4b67-bb0a-508d4072b056",
   "metadata": {},
   "source": [
    "In reviewing the extracted named entities, I agree with the classifications of \"the late 1970s\" as a date, \"eCommerce\" as a product, and \"today\" also as a date, as these labels accurately represent the context provided in the text. However, I disagree with the labeling of \"ML\" (Machine Learning) and \"AI\" (Artificial Intelligence) as organizations. These terms refer more to concepts or fields rather than traditional organizations, and their classification as such is not appropriate. Overall, while some entities are correctly identified, others would benefit from more contextually accurate classifications."
   ]
  },
  {
   "cell_type": "markdown",
   "id": "57a66a57",
   "metadata": {},
   "source": [
    "#### Create a new doucument "
   ]
  },
  {
   "cell_type": "code",
   "execution_count": 39,
   "id": "639acbb5",
   "metadata": {},
   "outputs": [],
   "source": [
    "document = nlp(\"\"\"Legend of the Bermuda Triangle\n",
    "The area referred to as the Bermuda Triangle, or Devil’s Triangle, \n",
    "covers about 500,000 square miles of ocean off the southeastern tip of Florida. \n",
    "When Christopher Columbus sailed through the area on his first voyage to the New World, \n",
    "he reported that a great flame of fire (probably a meteor) crashed into the sea \n",
    "one night and that a strange light appeared in the distance a few weeks later. \n",
    "He also wrote about erratic compass readings, \n",
    "perhaps because at that time a sliver of the Bermuda Triangle was one of the few places on Earth \n",
    "where true north and magnetic north lined up.\"\"\")"
   ]
  },
  {
   "cell_type": "markdown",
   "id": "dc3a58cf",
   "metadata": {},
   "source": [
    "#### Using a for loop, get the Named Entities"
   ]
  },
  {
   "cell_type": "code",
   "execution_count": 42,
   "id": "38d0068c",
   "metadata": {},
   "outputs": [
    {
     "name": "stdout",
     "output_type": "stream",
     "text": [
      "Triangle ORG\n",
      "about 500,000 square miles QUANTITY\n",
      "Florida GPE\n",
      "Christopher Columbus PERSON\n",
      "first ORDINAL\n",
      "the New World ORG\n",
      "one night TIME\n",
      "a few weeks later DATE\n",
      "the Bermuda Triangle PRODUCT\n",
      "one CARDINAL\n",
      "Earth LOC\n"
     ]
    }
   ],
   "source": [
    "for ent in document.ents:\n",
    "    print(ent.text, ent.label_)"
   ]
  },
  {
   "cell_type": "markdown",
   "id": "75a56387",
   "metadata": {},
   "source": [
    "#### Do you believe the Named Entities of this document are more accurate than the previous ones?"
   ]
  },
  {
   "cell_type": "markdown",
   "id": "9d777913-8e4f-4ac8-b37f-f4744b639838",
   "metadata": {},
   "source": [
    "In terms of accuracy, the named entities in this document show some improvement, particularly with clearly defined entities like \"Florida\" and \"Christopher Columbus.\" However, there are still inaccuracies that detract from the overall quality. The overall performance seems to be mixed; some entities are more accurate, while others could be improved. This document has some more accurate entities than the previous one, there is still room for refinement in the classifications."
   ]
  },
  {
   "cell_type": "markdown",
   "id": "e44456b8",
   "metadata": {},
   "source": [
    "#### POS-tagging and Lemmatization:\n",
    "You can establish the lemma for each token as well as its part of speech. Use the token.lemma_ method for lemmas and the token.pos_ method for parts of speech."
   ]
  },
  {
   "cell_type": "markdown",
   "id": "baec39df",
   "metadata": {},
   "source": [
    "#### Display the text, lemma, and POS for each token of the above document. <br> hint: use a for loop; for token in document"
   ]
  },
  {
   "cell_type": "code",
   "execution_count": 47,
   "id": "d58e79ed",
   "metadata": {},
   "outputs": [
    {
     "name": "stdout",
     "output_type": "stream",
     "text": [
      "Text: Legend, Lemma: legend, POS: NOUN\n",
      "Text: of, Lemma: of, POS: ADP\n",
      "Text: the, Lemma: the, POS: DET\n",
      "Text: Bermuda, Lemma: Bermuda, POS: PROPN\n",
      "Text: Triangle, Lemma: Triangle, POS: PROPN\n",
      "Text: \n",
      ", Lemma: \n",
      ", POS: SPACE\n",
      "Text: The, Lemma: the, POS: DET\n",
      "Text: area, Lemma: area, POS: NOUN\n",
      "Text: referred, Lemma: refer, POS: VERB\n",
      "Text: to, Lemma: to, POS: ADP\n",
      "Text: as, Lemma: as, POS: SCONJ\n",
      "Text: the, Lemma: the, POS: DET\n",
      "Text: Bermuda, Lemma: Bermuda, POS: PROPN\n",
      "Text: Triangle, Lemma: Triangle, POS: PROPN\n",
      "Text: ,, Lemma: ,, POS: PUNCT\n",
      "Text: or, Lemma: or, POS: CCONJ\n",
      "Text: Devil, Lemma: Devil, POS: PROPN\n",
      "Text: ’s, Lemma: ’s, POS: PART\n",
      "Text: Triangle, Lemma: Triangle, POS: PROPN\n",
      "Text: ,, Lemma: ,, POS: PUNCT\n",
      "Text: \n",
      ", Lemma: \n",
      ", POS: SPACE\n",
      "Text: covers, Lemma: cover, POS: VERB\n",
      "Text: about, Lemma: about, POS: ADV\n",
      "Text: 500,000, Lemma: 500,000, POS: NUM\n",
      "Text: square, Lemma: square, POS: ADJ\n",
      "Text: miles, Lemma: mile, POS: NOUN\n",
      "Text: of, Lemma: of, POS: ADP\n",
      "Text: ocean, Lemma: ocean, POS: NOUN\n",
      "Text: off, Lemma: off, POS: ADP\n",
      "Text: the, Lemma: the, POS: DET\n",
      "Text: southeastern, Lemma: southeastern, POS: ADJ\n",
      "Text: tip, Lemma: tip, POS: NOUN\n",
      "Text: of, Lemma: of, POS: ADP\n",
      "Text: Florida, Lemma: Florida, POS: PROPN\n",
      "Text: ., Lemma: ., POS: PUNCT\n",
      "Text: \n",
      ", Lemma: \n",
      ", POS: SPACE\n",
      "Text: When, Lemma: when, POS: SCONJ\n",
      "Text: Christopher, Lemma: Christopher, POS: PROPN\n",
      "Text: Columbus, Lemma: Columbus, POS: PROPN\n",
      "Text: sailed, Lemma: sail, POS: VERB\n",
      "Text: through, Lemma: through, POS: ADP\n",
      "Text: the, Lemma: the, POS: DET\n",
      "Text: area, Lemma: area, POS: NOUN\n",
      "Text: on, Lemma: on, POS: ADP\n",
      "Text: his, Lemma: his, POS: PRON\n",
      "Text: first, Lemma: first, POS: ADJ\n",
      "Text: voyage, Lemma: voyage, POS: NOUN\n",
      "Text: to, Lemma: to, POS: ADP\n",
      "Text: the, Lemma: the, POS: DET\n",
      "Text: New, Lemma: New, POS: PROPN\n",
      "Text: World, Lemma: World, POS: PROPN\n",
      "Text: ,, Lemma: ,, POS: PUNCT\n",
      "Text: \n",
      ", Lemma: \n",
      ", POS: SPACE\n",
      "Text: he, Lemma: he, POS: PRON\n",
      "Text: reported, Lemma: report, POS: VERB\n",
      "Text: that, Lemma: that, POS: SCONJ\n",
      "Text: a, Lemma: a, POS: DET\n",
      "Text: great, Lemma: great, POS: ADJ\n",
      "Text: flame, Lemma: flame, POS: NOUN\n",
      "Text: of, Lemma: of, POS: ADP\n",
      "Text: fire, Lemma: fire, POS: NOUN\n",
      "Text: (, Lemma: (, POS: PUNCT\n",
      "Text: probably, Lemma: probably, POS: ADV\n",
      "Text: a, Lemma: a, POS: DET\n",
      "Text: meteor, Lemma: meteor, POS: NOUN\n",
      "Text: ), Lemma: ), POS: PUNCT\n",
      "Text: crashed, Lemma: crash, POS: VERB\n",
      "Text: into, Lemma: into, POS: ADP\n",
      "Text: the, Lemma: the, POS: DET\n",
      "Text: sea, Lemma: sea, POS: NOUN\n",
      "Text: \n",
      ", Lemma: \n",
      ", POS: SPACE\n",
      "Text: one, Lemma: one, POS: NUM\n",
      "Text: night, Lemma: night, POS: NOUN\n",
      "Text: and, Lemma: and, POS: CCONJ\n",
      "Text: that, Lemma: that, POS: SCONJ\n",
      "Text: a, Lemma: a, POS: DET\n",
      "Text: strange, Lemma: strange, POS: ADJ\n",
      "Text: light, Lemma: light, POS: NOUN\n",
      "Text: appeared, Lemma: appear, POS: VERB\n",
      "Text: in, Lemma: in, POS: ADP\n",
      "Text: the, Lemma: the, POS: DET\n",
      "Text: distance, Lemma: distance, POS: NOUN\n",
      "Text: a, Lemma: a, POS: DET\n",
      "Text: few, Lemma: few, POS: ADJ\n",
      "Text: weeks, Lemma: week, POS: NOUN\n",
      "Text: later, Lemma: later, POS: ADV\n",
      "Text: ., Lemma: ., POS: PUNCT\n",
      "Text: \n",
      ", Lemma: \n",
      ", POS: SPACE\n",
      "Text: He, Lemma: he, POS: PRON\n",
      "Text: also, Lemma: also, POS: ADV\n",
      "Text: wrote, Lemma: write, POS: VERB\n",
      "Text: about, Lemma: about, POS: ADP\n",
      "Text: erratic, Lemma: erratic, POS: ADJ\n",
      "Text: compass, Lemma: compass, POS: NOUN\n",
      "Text: readings, Lemma: reading, POS: NOUN\n",
      "Text: ,, Lemma: ,, POS: PUNCT\n",
      "Text: \n",
      ", Lemma: \n",
      ", POS: SPACE\n",
      "Text: perhaps, Lemma: perhaps, POS: ADV\n",
      "Text: because, Lemma: because, POS: SCONJ\n",
      "Text: at, Lemma: at, POS: ADP\n",
      "Text: that, Lemma: that, POS: DET\n",
      "Text: time, Lemma: time, POS: NOUN\n",
      "Text: a, Lemma: a, POS: DET\n",
      "Text: sliver, Lemma: sliver, POS: NOUN\n",
      "Text: of, Lemma: of, POS: ADP\n",
      "Text: the, Lemma: the, POS: DET\n",
      "Text: Bermuda, Lemma: Bermuda, POS: PROPN\n",
      "Text: Triangle, Lemma: Triangle, POS: PROPN\n",
      "Text: was, Lemma: be, POS: AUX\n",
      "Text: one, Lemma: one, POS: NUM\n",
      "Text: of, Lemma: of, POS: ADP\n",
      "Text: the, Lemma: the, POS: DET\n",
      "Text: few, Lemma: few, POS: ADJ\n",
      "Text: places, Lemma: place, POS: NOUN\n",
      "Text: on, Lemma: on, POS: ADP\n",
      "Text: Earth, Lemma: Earth, POS: PROPN\n",
      "Text: \n",
      ", Lemma: \n",
      ", POS: SPACE\n",
      "Text: where, Lemma: where, POS: SCONJ\n",
      "Text: true, Lemma: true, POS: ADJ\n",
      "Text: north, Lemma: north, POS: NOUN\n",
      "Text: and, Lemma: and, POS: CCONJ\n",
      "Text: magnetic, Lemma: magnetic, POS: ADJ\n",
      "Text: north, Lemma: north, POS: NOUN\n",
      "Text: lined, Lemma: line, POS: VERB\n",
      "Text: up, Lemma: up, POS: ADP\n",
      "Text: ., Lemma: ., POS: PUNCT\n"
     ]
    }
   ],
   "source": [
    "for token in document:\n",
    "    print(f'Text: {token.text}, Lemma: {token.lemma_}, POS: {token.pos_}')"
   ]
  },
  {
   "cell_type": "markdown",
   "id": "2c8d184e",
   "metadata": {},
   "source": [
    "#### Usign spaCy, explain the meaning of the followign tags:\n",
    "- ORG\n",
    "- LAW\n",
    "- FAC\n",
    "- ORDINAL"
   ]
  },
  {
   "cell_type": "markdown",
   "id": "ee3fd18d-3418-4f94-a824-19b1f965cbba",
   "metadata": {},
   "source": [
    "# Explanation of Selected POS Tags\n",
    "ORG (Organization): \n",
    "\n",
    "This tag is used to identify named entities that represent organizations, institutions, or companies. Examples include names like \"Google,\" \"United Nations,\" or \"World Health Organization.\" It helps in recognizing and categorizing entities that have a formal structure or recognized status in society.\n",
    "\n",
    "LAW (Law): \n",
    "\n",
    "This tag refers to named entities that pertain to laws, legal codes, statutes, or formal legal documents. Examples might include \"Constitution,\" \"Civil Rights Act,\" or \"Federal Regulations.\" It is useful for legal analysis or research involving legal texts.\n",
    "\n",
    "FAC (Facility): \n",
    "\n",
    "This tag denotes named entities that refer to buildings, structures, or locations that serve a specific function, such as \"Eiffel Tower,\" \"Los Angeles International Airport,\" or \"Grand Canyon.\" It helps to identify physical places that are recognized as facilities.\n",
    "\n",
    "ORDINAL: \n",
    "\n",
    "This tag is used for words that express order or rank in a sequence, such as \"first,\" \"second,\" or \"third.\" These words are typically used to indicate position within a numbered list or hierarchy and help clarify the relative position of items.\n",
    "\n"
   ]
  },
  {
   "cell_type": "markdown",
   "id": "53ff46fc-9a63-4d99-93fa-2398e1c0b37b",
   "metadata": {},
   "source": [
    "# Example of Usage in spaCy"
   ]
  },
  {
   "cell_type": "code",
   "execution_count": 59,
   "id": "1df803b0",
   "metadata": {},
   "outputs": [
    {
     "name": "stdout",
     "output_type": "stream",
     "text": [
      "Triangle ORG\n",
      "about 500,000 square miles QUANTITY\n",
      "Florida GPE\n",
      "Christopher Columbus PERSON\n",
      "first ORDINAL\n",
      "the New World ORG\n",
      "one night TIME\n",
      "a few weeks later DATE\n",
      "the Bermuda Triangle PRODUCT\n",
      "one CARDINAL\n",
      "Earth LOC\n"
     ]
    }
   ],
   "source": [
    "import spacy\n",
    "\n",
    "# Load the spaCy model\n",
    "nlp = spacy.load(\"en_core_web_sm\")\n",
    "\n",
    "# Create a document\n",
    "document = nlp(\"\"\"Legend of the Bermuda Triangle\n",
    "The area referred to as the Bermuda Triangle, or Devil’s Triangle, \n",
    "covers about 500,000 square miles of ocean off the southeastern tip of Florida. \n",
    "When Christopher Columbus sailed through the area on his first voyage to the New World, \n",
    "he reported that a great flame of fire (probably a meteor) crashed into the sea \n",
    "one night and that a strange light appeared in the distance a few weeks later. \n",
    "He also wrote about erratic compass readings, \n",
    "perhaps because at that time a sliver of the Bermuda Triangle was one of the few places on Earth \n",
    "where true north and magnetic north lined up.\"\"\")\n",
    "\n",
    "# Extract and display named entities\n",
    "for ent in document.ents:\n",
    "    print(ent.text, ent.label_)\n"
   ]
  },
  {
   "cell_type": "markdown",
   "id": "51bbd14e-6aee-430a-9f91-96acba417825",
   "metadata": {},
   "source": [
    "This code will show you the entities recognized in the text along with their respective tags, including ORG, LAW, FAC, and ORDINAL."
   ]
  },
  {
   "cell_type": "markdown",
   "id": "1b561c48",
   "metadata": {},
   "source": [
    "#### import displacy from spacy "
   ]
  },
  {
   "cell_type": "code",
   "execution_count": 62,
   "id": "bf94d817",
   "metadata": {},
   "outputs": [],
   "source": [
    "import spacy\n",
    "from spacy import displacy\n",
    "\n",
    "nlp = spacy.load(\"en_core_web_sm\")\n"
   ]
  },
  {
   "cell_type": "markdown",
   "id": "c1cba8cb",
   "metadata": {},
   "source": [
    "#### Visualize dependencies for the following text using style='deep'. Assign the text to a variable called \"document\" Then use displacy.render\n",
    "\n",
    "#### The Los Angeles Rams ended the 2021 season atop the NFL world, as they defeated the Cincinnati Bengals in Super Bowl LVI 23-20."
   ]
  },
  {
   "cell_type": "code",
   "execution_count": 65,
   "id": "d69773d6",
   "metadata": {},
   "outputs": [],
   "source": [
    "document = nlp(\"The Los Angeles Rams ended the 2021 season atop the NFL world, \"\n",
    "                \"as they defeated the Cincinnati Bengals in Super Bowl LVI 23-20.\")"
   ]
  },
  {
   "cell_type": "markdown",
   "id": "ece5fcc8",
   "metadata": {},
   "source": [
    "#### use display.render with style=\"dep\""
   ]
  },
  {
   "cell_type": "code",
   "execution_count": 68,
   "id": "5a8d2332",
   "metadata": {},
   "outputs": [
    {
     "data": {
      "text/html": [
       "<span class=\"tex2jax_ignore\"><svg xmlns=\"http://www.w3.org/2000/svg\" xmlns:xlink=\"http://www.w3.org/1999/xlink\" xml:lang=\"en\" id=\"7574e5ee8827457c86fafb6437d87911-0\" class=\"displacy\" width=\"4250\" height=\"574.5\" direction=\"ltr\" style=\"max-width: none; height: 574.5px; color: #000000; background: #ffffff; font-family: Arial; direction: ltr\">\n",
       "<text class=\"displacy-token\" fill=\"currentColor\" text-anchor=\"middle\" y=\"484.5\">\n",
       "    <tspan class=\"displacy-word\" fill=\"currentColor\" x=\"50\">The</tspan>\n",
       "    <tspan class=\"displacy-tag\" dy=\"2em\" fill=\"currentColor\" x=\"50\">DET</tspan>\n",
       "</text>\n",
       "\n",
       "<text class=\"displacy-token\" fill=\"currentColor\" text-anchor=\"middle\" y=\"484.5\">\n",
       "    <tspan class=\"displacy-word\" fill=\"currentColor\" x=\"225\">Los</tspan>\n",
       "    <tspan class=\"displacy-tag\" dy=\"2em\" fill=\"currentColor\" x=\"225\">PROPN</tspan>\n",
       "</text>\n",
       "\n",
       "<text class=\"displacy-token\" fill=\"currentColor\" text-anchor=\"middle\" y=\"484.5\">\n",
       "    <tspan class=\"displacy-word\" fill=\"currentColor\" x=\"400\">Angeles</tspan>\n",
       "    <tspan class=\"displacy-tag\" dy=\"2em\" fill=\"currentColor\" x=\"400\">PROPN</tspan>\n",
       "</text>\n",
       "\n",
       "<text class=\"displacy-token\" fill=\"currentColor\" text-anchor=\"middle\" y=\"484.5\">\n",
       "    <tspan class=\"displacy-word\" fill=\"currentColor\" x=\"575\">Rams</tspan>\n",
       "    <tspan class=\"displacy-tag\" dy=\"2em\" fill=\"currentColor\" x=\"575\">PROPN</tspan>\n",
       "</text>\n",
       "\n",
       "<text class=\"displacy-token\" fill=\"currentColor\" text-anchor=\"middle\" y=\"484.5\">\n",
       "    <tspan class=\"displacy-word\" fill=\"currentColor\" x=\"750\">ended</tspan>\n",
       "    <tspan class=\"displacy-tag\" dy=\"2em\" fill=\"currentColor\" x=\"750\">VERB</tspan>\n",
       "</text>\n",
       "\n",
       "<text class=\"displacy-token\" fill=\"currentColor\" text-anchor=\"middle\" y=\"484.5\">\n",
       "    <tspan class=\"displacy-word\" fill=\"currentColor\" x=\"925\">the</tspan>\n",
       "    <tspan class=\"displacy-tag\" dy=\"2em\" fill=\"currentColor\" x=\"925\">DET</tspan>\n",
       "</text>\n",
       "\n",
       "<text class=\"displacy-token\" fill=\"currentColor\" text-anchor=\"middle\" y=\"484.5\">\n",
       "    <tspan class=\"displacy-word\" fill=\"currentColor\" x=\"1100\">2021</tspan>\n",
       "    <tspan class=\"displacy-tag\" dy=\"2em\" fill=\"currentColor\" x=\"1100\">NUM</tspan>\n",
       "</text>\n",
       "\n",
       "<text class=\"displacy-token\" fill=\"currentColor\" text-anchor=\"middle\" y=\"484.5\">\n",
       "    <tspan class=\"displacy-word\" fill=\"currentColor\" x=\"1275\">season</tspan>\n",
       "    <tspan class=\"displacy-tag\" dy=\"2em\" fill=\"currentColor\" x=\"1275\">NOUN</tspan>\n",
       "</text>\n",
       "\n",
       "<text class=\"displacy-token\" fill=\"currentColor\" text-anchor=\"middle\" y=\"484.5\">\n",
       "    <tspan class=\"displacy-word\" fill=\"currentColor\" x=\"1450\">atop</tspan>\n",
       "    <tspan class=\"displacy-tag\" dy=\"2em\" fill=\"currentColor\" x=\"1450\">ADP</tspan>\n",
       "</text>\n",
       "\n",
       "<text class=\"displacy-token\" fill=\"currentColor\" text-anchor=\"middle\" y=\"484.5\">\n",
       "    <tspan class=\"displacy-word\" fill=\"currentColor\" x=\"1625\">the</tspan>\n",
       "    <tspan class=\"displacy-tag\" dy=\"2em\" fill=\"currentColor\" x=\"1625\">DET</tspan>\n",
       "</text>\n",
       "\n",
       "<text class=\"displacy-token\" fill=\"currentColor\" text-anchor=\"middle\" y=\"484.5\">\n",
       "    <tspan class=\"displacy-word\" fill=\"currentColor\" x=\"1800\">NFL</tspan>\n",
       "    <tspan class=\"displacy-tag\" dy=\"2em\" fill=\"currentColor\" x=\"1800\">PROPN</tspan>\n",
       "</text>\n",
       "\n",
       "<text class=\"displacy-token\" fill=\"currentColor\" text-anchor=\"middle\" y=\"484.5\">\n",
       "    <tspan class=\"displacy-word\" fill=\"currentColor\" x=\"1975\">world,</tspan>\n",
       "    <tspan class=\"displacy-tag\" dy=\"2em\" fill=\"currentColor\" x=\"1975\">NOUN</tspan>\n",
       "</text>\n",
       "\n",
       "<text class=\"displacy-token\" fill=\"currentColor\" text-anchor=\"middle\" y=\"484.5\">\n",
       "    <tspan class=\"displacy-word\" fill=\"currentColor\" x=\"2150\">as</tspan>\n",
       "    <tspan class=\"displacy-tag\" dy=\"2em\" fill=\"currentColor\" x=\"2150\">SCONJ</tspan>\n",
       "</text>\n",
       "\n",
       "<text class=\"displacy-token\" fill=\"currentColor\" text-anchor=\"middle\" y=\"484.5\">\n",
       "    <tspan class=\"displacy-word\" fill=\"currentColor\" x=\"2325\">they</tspan>\n",
       "    <tspan class=\"displacy-tag\" dy=\"2em\" fill=\"currentColor\" x=\"2325\">PRON</tspan>\n",
       "</text>\n",
       "\n",
       "<text class=\"displacy-token\" fill=\"currentColor\" text-anchor=\"middle\" y=\"484.5\">\n",
       "    <tspan class=\"displacy-word\" fill=\"currentColor\" x=\"2500\">defeated</tspan>\n",
       "    <tspan class=\"displacy-tag\" dy=\"2em\" fill=\"currentColor\" x=\"2500\">VERB</tspan>\n",
       "</text>\n",
       "\n",
       "<text class=\"displacy-token\" fill=\"currentColor\" text-anchor=\"middle\" y=\"484.5\">\n",
       "    <tspan class=\"displacy-word\" fill=\"currentColor\" x=\"2675\">the</tspan>\n",
       "    <tspan class=\"displacy-tag\" dy=\"2em\" fill=\"currentColor\" x=\"2675\">DET</tspan>\n",
       "</text>\n",
       "\n",
       "<text class=\"displacy-token\" fill=\"currentColor\" text-anchor=\"middle\" y=\"484.5\">\n",
       "    <tspan class=\"displacy-word\" fill=\"currentColor\" x=\"2850\">Cincinnati</tspan>\n",
       "    <tspan class=\"displacy-tag\" dy=\"2em\" fill=\"currentColor\" x=\"2850\">PROPN</tspan>\n",
       "</text>\n",
       "\n",
       "<text class=\"displacy-token\" fill=\"currentColor\" text-anchor=\"middle\" y=\"484.5\">\n",
       "    <tspan class=\"displacy-word\" fill=\"currentColor\" x=\"3025\">Bengals</tspan>\n",
       "    <tspan class=\"displacy-tag\" dy=\"2em\" fill=\"currentColor\" x=\"3025\">PROPN</tspan>\n",
       "</text>\n",
       "\n",
       "<text class=\"displacy-token\" fill=\"currentColor\" text-anchor=\"middle\" y=\"484.5\">\n",
       "    <tspan class=\"displacy-word\" fill=\"currentColor\" x=\"3200\">in</tspan>\n",
       "    <tspan class=\"displacy-tag\" dy=\"2em\" fill=\"currentColor\" x=\"3200\">ADP</tspan>\n",
       "</text>\n",
       "\n",
       "<text class=\"displacy-token\" fill=\"currentColor\" text-anchor=\"middle\" y=\"484.5\">\n",
       "    <tspan class=\"displacy-word\" fill=\"currentColor\" x=\"3375\">Super</tspan>\n",
       "    <tspan class=\"displacy-tag\" dy=\"2em\" fill=\"currentColor\" x=\"3375\">PROPN</tspan>\n",
       "</text>\n",
       "\n",
       "<text class=\"displacy-token\" fill=\"currentColor\" text-anchor=\"middle\" y=\"484.5\">\n",
       "    <tspan class=\"displacy-word\" fill=\"currentColor\" x=\"3550\">Bowl</tspan>\n",
       "    <tspan class=\"displacy-tag\" dy=\"2em\" fill=\"currentColor\" x=\"3550\">PROPN</tspan>\n",
       "</text>\n",
       "\n",
       "<text class=\"displacy-token\" fill=\"currentColor\" text-anchor=\"middle\" y=\"484.5\">\n",
       "    <tspan class=\"displacy-word\" fill=\"currentColor\" x=\"3725\">LVI</tspan>\n",
       "    <tspan class=\"displacy-tag\" dy=\"2em\" fill=\"currentColor\" x=\"3725\">PROPN</tspan>\n",
       "</text>\n",
       "\n",
       "<text class=\"displacy-token\" fill=\"currentColor\" text-anchor=\"middle\" y=\"484.5\">\n",
       "    <tspan class=\"displacy-word\" fill=\"currentColor\" x=\"3900\">23-</tspan>\n",
       "    <tspan class=\"displacy-tag\" dy=\"2em\" fill=\"currentColor\" x=\"3900\">NUM</tspan>\n",
       "</text>\n",
       "\n",
       "<text class=\"displacy-token\" fill=\"currentColor\" text-anchor=\"middle\" y=\"484.5\">\n",
       "    <tspan class=\"displacy-word\" fill=\"currentColor\" x=\"4075\">20.</tspan>\n",
       "    <tspan class=\"displacy-tag\" dy=\"2em\" fill=\"currentColor\" x=\"4075\">NUM</tspan>\n",
       "</text>\n",
       "\n",
       "<g class=\"displacy-arrow\">\n",
       "    <path class=\"displacy-arc\" id=\"arrow-7574e5ee8827457c86fafb6437d87911-0-0\" stroke-width=\"2px\" d=\"M70,439.5 C70,264.5 560.0,264.5 560.0,439.5\" fill=\"none\" stroke=\"currentColor\"/>\n",
       "    <text dy=\"1.25em\" style=\"font-size: 0.8em; letter-spacing: 1px\">\n",
       "        <textPath xlink:href=\"#arrow-7574e5ee8827457c86fafb6437d87911-0-0\" class=\"displacy-label\" startOffset=\"50%\" side=\"left\" fill=\"currentColor\" text-anchor=\"middle\">det</textPath>\n",
       "    </text>\n",
       "    <path class=\"displacy-arrowhead\" d=\"M70,441.5 L62,429.5 78,429.5\" fill=\"currentColor\"/>\n",
       "</g>\n",
       "\n",
       "<g class=\"displacy-arrow\">\n",
       "    <path class=\"displacy-arc\" id=\"arrow-7574e5ee8827457c86fafb6437d87911-0-1\" stroke-width=\"2px\" d=\"M245,439.5 C245,352.0 380.0,352.0 380.0,439.5\" fill=\"none\" stroke=\"currentColor\"/>\n",
       "    <text dy=\"1.25em\" style=\"font-size: 0.8em; letter-spacing: 1px\">\n",
       "        <textPath xlink:href=\"#arrow-7574e5ee8827457c86fafb6437d87911-0-1\" class=\"displacy-label\" startOffset=\"50%\" side=\"left\" fill=\"currentColor\" text-anchor=\"middle\">compound</textPath>\n",
       "    </text>\n",
       "    <path class=\"displacy-arrowhead\" d=\"M245,441.5 L237,429.5 253,429.5\" fill=\"currentColor\"/>\n",
       "</g>\n",
       "\n",
       "<g class=\"displacy-arrow\">\n",
       "    <path class=\"displacy-arc\" id=\"arrow-7574e5ee8827457c86fafb6437d87911-0-2\" stroke-width=\"2px\" d=\"M420,439.5 C420,352.0 555.0,352.0 555.0,439.5\" fill=\"none\" stroke=\"currentColor\"/>\n",
       "    <text dy=\"1.25em\" style=\"font-size: 0.8em; letter-spacing: 1px\">\n",
       "        <textPath xlink:href=\"#arrow-7574e5ee8827457c86fafb6437d87911-0-2\" class=\"displacy-label\" startOffset=\"50%\" side=\"left\" fill=\"currentColor\" text-anchor=\"middle\">compound</textPath>\n",
       "    </text>\n",
       "    <path class=\"displacy-arrowhead\" d=\"M420,441.5 L412,429.5 428,429.5\" fill=\"currentColor\"/>\n",
       "</g>\n",
       "\n",
       "<g class=\"displacy-arrow\">\n",
       "    <path class=\"displacy-arc\" id=\"arrow-7574e5ee8827457c86fafb6437d87911-0-3\" stroke-width=\"2px\" d=\"M595,439.5 C595,352.0 730.0,352.0 730.0,439.5\" fill=\"none\" stroke=\"currentColor\"/>\n",
       "    <text dy=\"1.25em\" style=\"font-size: 0.8em; letter-spacing: 1px\">\n",
       "        <textPath xlink:href=\"#arrow-7574e5ee8827457c86fafb6437d87911-0-3\" class=\"displacy-label\" startOffset=\"50%\" side=\"left\" fill=\"currentColor\" text-anchor=\"middle\">nsubj</textPath>\n",
       "    </text>\n",
       "    <path class=\"displacy-arrowhead\" d=\"M595,441.5 L587,429.5 603,429.5\" fill=\"currentColor\"/>\n",
       "</g>\n",
       "\n",
       "<g class=\"displacy-arrow\">\n",
       "    <path class=\"displacy-arc\" id=\"arrow-7574e5ee8827457c86fafb6437d87911-0-4\" stroke-width=\"2px\" d=\"M945,439.5 C945,264.5 1260.0,264.5 1260.0,439.5\" fill=\"none\" stroke=\"currentColor\"/>\n",
       "    <text dy=\"1.25em\" style=\"font-size: 0.8em; letter-spacing: 1px\">\n",
       "        <textPath xlink:href=\"#arrow-7574e5ee8827457c86fafb6437d87911-0-4\" class=\"displacy-label\" startOffset=\"50%\" side=\"left\" fill=\"currentColor\" text-anchor=\"middle\">det</textPath>\n",
       "    </text>\n",
       "    <path class=\"displacy-arrowhead\" d=\"M945,441.5 L937,429.5 953,429.5\" fill=\"currentColor\"/>\n",
       "</g>\n",
       "\n",
       "<g class=\"displacy-arrow\">\n",
       "    <path class=\"displacy-arc\" id=\"arrow-7574e5ee8827457c86fafb6437d87911-0-5\" stroke-width=\"2px\" d=\"M1120,439.5 C1120,352.0 1255.0,352.0 1255.0,439.5\" fill=\"none\" stroke=\"currentColor\"/>\n",
       "    <text dy=\"1.25em\" style=\"font-size: 0.8em; letter-spacing: 1px\">\n",
       "        <textPath xlink:href=\"#arrow-7574e5ee8827457c86fafb6437d87911-0-5\" class=\"displacy-label\" startOffset=\"50%\" side=\"left\" fill=\"currentColor\" text-anchor=\"middle\">nummod</textPath>\n",
       "    </text>\n",
       "    <path class=\"displacy-arrowhead\" d=\"M1120,441.5 L1112,429.5 1128,429.5\" fill=\"currentColor\"/>\n",
       "</g>\n",
       "\n",
       "<g class=\"displacy-arrow\">\n",
       "    <path class=\"displacy-arc\" id=\"arrow-7574e5ee8827457c86fafb6437d87911-0-6\" stroke-width=\"2px\" d=\"M770,439.5 C770,177.0 1265.0,177.0 1265.0,439.5\" fill=\"none\" stroke=\"currentColor\"/>\n",
       "    <text dy=\"1.25em\" style=\"font-size: 0.8em; letter-spacing: 1px\">\n",
       "        <textPath xlink:href=\"#arrow-7574e5ee8827457c86fafb6437d87911-0-6\" class=\"displacy-label\" startOffset=\"50%\" side=\"left\" fill=\"currentColor\" text-anchor=\"middle\">dobj</textPath>\n",
       "    </text>\n",
       "    <path class=\"displacy-arrowhead\" d=\"M1265.0,441.5 L1273.0,429.5 1257.0,429.5\" fill=\"currentColor\"/>\n",
       "</g>\n",
       "\n",
       "<g class=\"displacy-arrow\">\n",
       "    <path class=\"displacy-arc\" id=\"arrow-7574e5ee8827457c86fafb6437d87911-0-7\" stroke-width=\"2px\" d=\"M770,439.5 C770,89.5 1445.0,89.5 1445.0,439.5\" fill=\"none\" stroke=\"currentColor\"/>\n",
       "    <text dy=\"1.25em\" style=\"font-size: 0.8em; letter-spacing: 1px\">\n",
       "        <textPath xlink:href=\"#arrow-7574e5ee8827457c86fafb6437d87911-0-7\" class=\"displacy-label\" startOffset=\"50%\" side=\"left\" fill=\"currentColor\" text-anchor=\"middle\">prep</textPath>\n",
       "    </text>\n",
       "    <path class=\"displacy-arrowhead\" d=\"M1445.0,441.5 L1453.0,429.5 1437.0,429.5\" fill=\"currentColor\"/>\n",
       "</g>\n",
       "\n",
       "<g class=\"displacy-arrow\">\n",
       "    <path class=\"displacy-arc\" id=\"arrow-7574e5ee8827457c86fafb6437d87911-0-8\" stroke-width=\"2px\" d=\"M1645,439.5 C1645,264.5 1960.0,264.5 1960.0,439.5\" fill=\"none\" stroke=\"currentColor\"/>\n",
       "    <text dy=\"1.25em\" style=\"font-size: 0.8em; letter-spacing: 1px\">\n",
       "        <textPath xlink:href=\"#arrow-7574e5ee8827457c86fafb6437d87911-0-8\" class=\"displacy-label\" startOffset=\"50%\" side=\"left\" fill=\"currentColor\" text-anchor=\"middle\">det</textPath>\n",
       "    </text>\n",
       "    <path class=\"displacy-arrowhead\" d=\"M1645,441.5 L1637,429.5 1653,429.5\" fill=\"currentColor\"/>\n",
       "</g>\n",
       "\n",
       "<g class=\"displacy-arrow\">\n",
       "    <path class=\"displacy-arc\" id=\"arrow-7574e5ee8827457c86fafb6437d87911-0-9\" stroke-width=\"2px\" d=\"M1820,439.5 C1820,352.0 1955.0,352.0 1955.0,439.5\" fill=\"none\" stroke=\"currentColor\"/>\n",
       "    <text dy=\"1.25em\" style=\"font-size: 0.8em; letter-spacing: 1px\">\n",
       "        <textPath xlink:href=\"#arrow-7574e5ee8827457c86fafb6437d87911-0-9\" class=\"displacy-label\" startOffset=\"50%\" side=\"left\" fill=\"currentColor\" text-anchor=\"middle\">compound</textPath>\n",
       "    </text>\n",
       "    <path class=\"displacy-arrowhead\" d=\"M1820,441.5 L1812,429.5 1828,429.5\" fill=\"currentColor\"/>\n",
       "</g>\n",
       "\n",
       "<g class=\"displacy-arrow\">\n",
       "    <path class=\"displacy-arc\" id=\"arrow-7574e5ee8827457c86fafb6437d87911-0-10\" stroke-width=\"2px\" d=\"M1470,439.5 C1470,177.0 1965.0,177.0 1965.0,439.5\" fill=\"none\" stroke=\"currentColor\"/>\n",
       "    <text dy=\"1.25em\" style=\"font-size: 0.8em; letter-spacing: 1px\">\n",
       "        <textPath xlink:href=\"#arrow-7574e5ee8827457c86fafb6437d87911-0-10\" class=\"displacy-label\" startOffset=\"50%\" side=\"left\" fill=\"currentColor\" text-anchor=\"middle\">pobj</textPath>\n",
       "    </text>\n",
       "    <path class=\"displacy-arrowhead\" d=\"M1965.0,441.5 L1973.0,429.5 1957.0,429.5\" fill=\"currentColor\"/>\n",
       "</g>\n",
       "\n",
       "<g class=\"displacy-arrow\">\n",
       "    <path class=\"displacy-arc\" id=\"arrow-7574e5ee8827457c86fafb6437d87911-0-11\" stroke-width=\"2px\" d=\"M2170,439.5 C2170,264.5 2485.0,264.5 2485.0,439.5\" fill=\"none\" stroke=\"currentColor\"/>\n",
       "    <text dy=\"1.25em\" style=\"font-size: 0.8em; letter-spacing: 1px\">\n",
       "        <textPath xlink:href=\"#arrow-7574e5ee8827457c86fafb6437d87911-0-11\" class=\"displacy-label\" startOffset=\"50%\" side=\"left\" fill=\"currentColor\" text-anchor=\"middle\">mark</textPath>\n",
       "    </text>\n",
       "    <path class=\"displacy-arrowhead\" d=\"M2170,441.5 L2162,429.5 2178,429.5\" fill=\"currentColor\"/>\n",
       "</g>\n",
       "\n",
       "<g class=\"displacy-arrow\">\n",
       "    <path class=\"displacy-arc\" id=\"arrow-7574e5ee8827457c86fafb6437d87911-0-12\" stroke-width=\"2px\" d=\"M2345,439.5 C2345,352.0 2480.0,352.0 2480.0,439.5\" fill=\"none\" stroke=\"currentColor\"/>\n",
       "    <text dy=\"1.25em\" style=\"font-size: 0.8em; letter-spacing: 1px\">\n",
       "        <textPath xlink:href=\"#arrow-7574e5ee8827457c86fafb6437d87911-0-12\" class=\"displacy-label\" startOffset=\"50%\" side=\"left\" fill=\"currentColor\" text-anchor=\"middle\">nsubj</textPath>\n",
       "    </text>\n",
       "    <path class=\"displacy-arrowhead\" d=\"M2345,441.5 L2337,429.5 2353,429.5\" fill=\"currentColor\"/>\n",
       "</g>\n",
       "\n",
       "<g class=\"displacy-arrow\">\n",
       "    <path class=\"displacy-arc\" id=\"arrow-7574e5ee8827457c86fafb6437d87911-0-13\" stroke-width=\"2px\" d=\"M770,439.5 C770,2.0 2500.0,2.0 2500.0,439.5\" fill=\"none\" stroke=\"currentColor\"/>\n",
       "    <text dy=\"1.25em\" style=\"font-size: 0.8em; letter-spacing: 1px\">\n",
       "        <textPath xlink:href=\"#arrow-7574e5ee8827457c86fafb6437d87911-0-13\" class=\"displacy-label\" startOffset=\"50%\" side=\"left\" fill=\"currentColor\" text-anchor=\"middle\">advcl</textPath>\n",
       "    </text>\n",
       "    <path class=\"displacy-arrowhead\" d=\"M2500.0,441.5 L2508.0,429.5 2492.0,429.5\" fill=\"currentColor\"/>\n",
       "</g>\n",
       "\n",
       "<g class=\"displacy-arrow\">\n",
       "    <path class=\"displacy-arc\" id=\"arrow-7574e5ee8827457c86fafb6437d87911-0-14\" stroke-width=\"2px\" d=\"M2695,439.5 C2695,264.5 3010.0,264.5 3010.0,439.5\" fill=\"none\" stroke=\"currentColor\"/>\n",
       "    <text dy=\"1.25em\" style=\"font-size: 0.8em; letter-spacing: 1px\">\n",
       "        <textPath xlink:href=\"#arrow-7574e5ee8827457c86fafb6437d87911-0-14\" class=\"displacy-label\" startOffset=\"50%\" side=\"left\" fill=\"currentColor\" text-anchor=\"middle\">det</textPath>\n",
       "    </text>\n",
       "    <path class=\"displacy-arrowhead\" d=\"M2695,441.5 L2687,429.5 2703,429.5\" fill=\"currentColor\"/>\n",
       "</g>\n",
       "\n",
       "<g class=\"displacy-arrow\">\n",
       "    <path class=\"displacy-arc\" id=\"arrow-7574e5ee8827457c86fafb6437d87911-0-15\" stroke-width=\"2px\" d=\"M2870,439.5 C2870,352.0 3005.0,352.0 3005.0,439.5\" fill=\"none\" stroke=\"currentColor\"/>\n",
       "    <text dy=\"1.25em\" style=\"font-size: 0.8em; letter-spacing: 1px\">\n",
       "        <textPath xlink:href=\"#arrow-7574e5ee8827457c86fafb6437d87911-0-15\" class=\"displacy-label\" startOffset=\"50%\" side=\"left\" fill=\"currentColor\" text-anchor=\"middle\">compound</textPath>\n",
       "    </text>\n",
       "    <path class=\"displacy-arrowhead\" d=\"M2870,441.5 L2862,429.5 2878,429.5\" fill=\"currentColor\"/>\n",
       "</g>\n",
       "\n",
       "<g class=\"displacy-arrow\">\n",
       "    <path class=\"displacy-arc\" id=\"arrow-7574e5ee8827457c86fafb6437d87911-0-16\" stroke-width=\"2px\" d=\"M2520,439.5 C2520,177.0 3015.0,177.0 3015.0,439.5\" fill=\"none\" stroke=\"currentColor\"/>\n",
       "    <text dy=\"1.25em\" style=\"font-size: 0.8em; letter-spacing: 1px\">\n",
       "        <textPath xlink:href=\"#arrow-7574e5ee8827457c86fafb6437d87911-0-16\" class=\"displacy-label\" startOffset=\"50%\" side=\"left\" fill=\"currentColor\" text-anchor=\"middle\">dobj</textPath>\n",
       "    </text>\n",
       "    <path class=\"displacy-arrowhead\" d=\"M3015.0,441.5 L3023.0,429.5 3007.0,429.5\" fill=\"currentColor\"/>\n",
       "</g>\n",
       "\n",
       "<g class=\"displacy-arrow\">\n",
       "    <path class=\"displacy-arc\" id=\"arrow-7574e5ee8827457c86fafb6437d87911-0-17\" stroke-width=\"2px\" d=\"M3045,439.5 C3045,352.0 3180.0,352.0 3180.0,439.5\" fill=\"none\" stroke=\"currentColor\"/>\n",
       "    <text dy=\"1.25em\" style=\"font-size: 0.8em; letter-spacing: 1px\">\n",
       "        <textPath xlink:href=\"#arrow-7574e5ee8827457c86fafb6437d87911-0-17\" class=\"displacy-label\" startOffset=\"50%\" side=\"left\" fill=\"currentColor\" text-anchor=\"middle\">prep</textPath>\n",
       "    </text>\n",
       "    <path class=\"displacy-arrowhead\" d=\"M3180.0,441.5 L3188.0,429.5 3172.0,429.5\" fill=\"currentColor\"/>\n",
       "</g>\n",
       "\n",
       "<g class=\"displacy-arrow\">\n",
       "    <path class=\"displacy-arc\" id=\"arrow-7574e5ee8827457c86fafb6437d87911-0-18\" stroke-width=\"2px\" d=\"M3395,439.5 C3395,352.0 3530.0,352.0 3530.0,439.5\" fill=\"none\" stroke=\"currentColor\"/>\n",
       "    <text dy=\"1.25em\" style=\"font-size: 0.8em; letter-spacing: 1px\">\n",
       "        <textPath xlink:href=\"#arrow-7574e5ee8827457c86fafb6437d87911-0-18\" class=\"displacy-label\" startOffset=\"50%\" side=\"left\" fill=\"currentColor\" text-anchor=\"middle\">compound</textPath>\n",
       "    </text>\n",
       "    <path class=\"displacy-arrowhead\" d=\"M3395,441.5 L3387,429.5 3403,429.5\" fill=\"currentColor\"/>\n",
       "</g>\n",
       "\n",
       "<g class=\"displacy-arrow\">\n",
       "    <path class=\"displacy-arc\" id=\"arrow-7574e5ee8827457c86fafb6437d87911-0-19\" stroke-width=\"2px\" d=\"M3220,439.5 C3220,264.5 3535.0,264.5 3535.0,439.5\" fill=\"none\" stroke=\"currentColor\"/>\n",
       "    <text dy=\"1.25em\" style=\"font-size: 0.8em; letter-spacing: 1px\">\n",
       "        <textPath xlink:href=\"#arrow-7574e5ee8827457c86fafb6437d87911-0-19\" class=\"displacy-label\" startOffset=\"50%\" side=\"left\" fill=\"currentColor\" text-anchor=\"middle\">pobj</textPath>\n",
       "    </text>\n",
       "    <path class=\"displacy-arrowhead\" d=\"M3535.0,441.5 L3543.0,429.5 3527.0,429.5\" fill=\"currentColor\"/>\n",
       "</g>\n",
       "\n",
       "<g class=\"displacy-arrow\">\n",
       "    <path class=\"displacy-arc\" id=\"arrow-7574e5ee8827457c86fafb6437d87911-0-20\" stroke-width=\"2px\" d=\"M2520,439.5 C2520,89.5 3720.0,89.5 3720.0,439.5\" fill=\"none\" stroke=\"currentColor\"/>\n",
       "    <text dy=\"1.25em\" style=\"font-size: 0.8em; letter-spacing: 1px\">\n",
       "        <textPath xlink:href=\"#arrow-7574e5ee8827457c86fafb6437d87911-0-20\" class=\"displacy-label\" startOffset=\"50%\" side=\"left\" fill=\"currentColor\" text-anchor=\"middle\">npadvmod</textPath>\n",
       "    </text>\n",
       "    <path class=\"displacy-arrowhead\" d=\"M3720.0,441.5 L3728.0,429.5 3712.0,429.5\" fill=\"currentColor\"/>\n",
       "</g>\n",
       "\n",
       "<g class=\"displacy-arrow\">\n",
       "    <path class=\"displacy-arc\" id=\"arrow-7574e5ee8827457c86fafb6437d87911-0-21\" stroke-width=\"2px\" d=\"M3745,439.5 C3745,352.0 3880.0,352.0 3880.0,439.5\" fill=\"none\" stroke=\"currentColor\"/>\n",
       "    <text dy=\"1.25em\" style=\"font-size: 0.8em; letter-spacing: 1px\">\n",
       "        <textPath xlink:href=\"#arrow-7574e5ee8827457c86fafb6437d87911-0-21\" class=\"displacy-label\" startOffset=\"50%\" side=\"left\" fill=\"currentColor\" text-anchor=\"middle\">nummod</textPath>\n",
       "    </text>\n",
       "    <path class=\"displacy-arrowhead\" d=\"M3880.0,441.5 L3888.0,429.5 3872.0,429.5\" fill=\"currentColor\"/>\n",
       "</g>\n",
       "\n",
       "<g class=\"displacy-arrow\">\n",
       "    <path class=\"displacy-arc\" id=\"arrow-7574e5ee8827457c86fafb6437d87911-0-22\" stroke-width=\"2px\" d=\"M3920,439.5 C3920,352.0 4055.0,352.0 4055.0,439.5\" fill=\"none\" stroke=\"currentColor\"/>\n",
       "    <text dy=\"1.25em\" style=\"font-size: 0.8em; letter-spacing: 1px\">\n",
       "        <textPath xlink:href=\"#arrow-7574e5ee8827457c86fafb6437d87911-0-22\" class=\"displacy-label\" startOffset=\"50%\" side=\"left\" fill=\"currentColor\" text-anchor=\"middle\">prep</textPath>\n",
       "    </text>\n",
       "    <path class=\"displacy-arrowhead\" d=\"M4055.0,441.5 L4063.0,429.5 4047.0,429.5\" fill=\"currentColor\"/>\n",
       "</g>\n",
       "</svg></span>"
      ],
      "text/plain": [
       "<IPython.core.display.HTML object>"
      ]
     },
     "metadata": {},
     "output_type": "display_data"
    }
   ],
   "source": [
    "displacy.render(document, style='dep')"
   ]
  },
  {
   "cell_type": "markdown",
   "id": "28e17ae2",
   "metadata": {},
   "source": [
    "#### Visualize the named entities usign the same text. <br> hint: use style=\"ent\""
   ]
  },
  {
   "cell_type": "code",
   "execution_count": 71,
   "id": "bbea7bea",
   "metadata": {},
   "outputs": [
    {
     "data": {
      "text/html": [
       "<span class=\"tex2jax_ignore\"><div class=\"entities\" style=\"line-height: 2.5; direction: ltr\">\n",
       "<mark class=\"entity\" style=\"background: #7aecec; padding: 0.45em 0.6em; margin: 0 0.25em; line-height: 1; border-radius: 0.35em;\">\n",
       "    The Los Angeles Rams\n",
       "    <span style=\"font-size: 0.8em; font-weight: bold; line-height: 1; border-radius: 0.35em; vertical-align: middle; margin-left: 0.5rem\">ORG</span>\n",
       "</mark>\n",
       " ended \n",
       "<mark class=\"entity\" style=\"background: #bfe1d9; padding: 0.45em 0.6em; margin: 0 0.25em; line-height: 1; border-radius: 0.35em;\">\n",
       "    the 2021 season\n",
       "    <span style=\"font-size: 0.8em; font-weight: bold; line-height: 1; border-radius: 0.35em; vertical-align: middle; margin-left: 0.5rem\">DATE</span>\n",
       "</mark>\n",
       " atop the \n",
       "<mark class=\"entity\" style=\"background: #7aecec; padding: 0.45em 0.6em; margin: 0 0.25em; line-height: 1; border-radius: 0.35em;\">\n",
       "    NFL\n",
       "    <span style=\"font-size: 0.8em; font-weight: bold; line-height: 1; border-radius: 0.35em; vertical-align: middle; margin-left: 0.5rem\">ORG</span>\n",
       "</mark>\n",
       " world, as they defeated \n",
       "<mark class=\"entity\" style=\"background: #7aecec; padding: 0.45em 0.6em; margin: 0 0.25em; line-height: 1; border-radius: 0.35em;\">\n",
       "    the Cincinnati Bengals\n",
       "    <span style=\"font-size: 0.8em; font-weight: bold; line-height: 1; border-radius: 0.35em; vertical-align: middle; margin-left: 0.5rem\">ORG</span>\n",
       "</mark>\n",
       " in \n",
       "<mark class=\"entity\" style=\"background: #ffeb80; padding: 0.45em 0.6em; margin: 0 0.25em; line-height: 1; border-radius: 0.35em;\">\n",
       "    Super Bowl\n",
       "    <span style=\"font-size: 0.8em; font-weight: bold; line-height: 1; border-radius: 0.35em; vertical-align: middle; margin-left: 0.5rem\">EVENT</span>\n",
       "</mark>\n",
       " LVI \n",
       "<mark class=\"entity\" style=\"background: #e4e7d2; padding: 0.45em 0.6em; margin: 0 0.25em; line-height: 1; border-radius: 0.35em;\">\n",
       "    23\n",
       "    <span style=\"font-size: 0.8em; font-weight: bold; line-height: 1; border-radius: 0.35em; vertical-align: middle; margin-left: 0.5rem\">CARDINAL</span>\n",
       "</mark>\n",
       "-20.</div></span>"
      ],
      "text/plain": [
       "<IPython.core.display.HTML object>"
      ]
     },
     "metadata": {},
     "output_type": "display_data"
    }
   ],
   "source": [
    "displacy.render(document, style='ent')"
   ]
  },
  {
   "cell_type": "code",
   "execution_count": 16,
   "id": "612b6ef0",
   "metadata": {},
   "outputs": [
    {
     "data": {
      "text/html": [
       "<span class=\"tex2jax_ignore\"><div class=\"entities\" style=\"line-height: 2.5; direction: ltr\">\n",
       "<mark class=\"entity\" style=\"background: #7aecec; padding: 0.45em 0.6em; margin: 0 0.25em; line-height: 1; border-radius: 0.35em;\">\n",
       "    The Los Angeles Rams\n",
       "    <span style=\"font-size: 0.8em; font-weight: bold; line-height: 1; border-radius: 0.35em; vertical-align: middle; margin-left: 0.5rem\">ORG</span>\n",
       "</mark>\n",
       " ended the \n",
       "<mark class=\"entity\" style=\"background: #bfe1d9; padding: 0.45em 0.6em; margin: 0 0.25em; line-height: 1; border-radius: 0.35em;\">\n",
       "    2021\n",
       "    <span style=\"font-size: 0.8em; font-weight: bold; line-height: 1; border-radius: 0.35em; vertical-align: middle; margin-left: 0.5rem\">DATE</span>\n",
       "</mark>\n",
       " season atop the \n",
       "<mark class=\"entity\" style=\"background: #7aecec; padding: 0.45em 0.6em; margin: 0 0.25em; line-height: 1; border-radius: 0.35em;\">\n",
       "    NFL\n",
       "    <span style=\"font-size: 0.8em; font-weight: bold; line-height: 1; border-radius: 0.35em; vertical-align: middle; margin-left: 0.5rem\">ORG</span>\n",
       "</mark>\n",
       " world, as they defeated \n",
       "<mark class=\"entity\" style=\"background: #7aecec; padding: 0.45em 0.6em; margin: 0 0.25em; line-height: 1; border-radius: 0.35em;\">\n",
       "    the Cincinnati Bengals\n",
       "    <span style=\"font-size: 0.8em; font-weight: bold; line-height: 1; border-radius: 0.35em; vertical-align: middle; margin-left: 0.5rem\">ORG</span>\n",
       "</mark>\n",
       " in \n",
       "<mark class=\"entity\" style=\"background: #ffeb80; padding: 0.45em 0.6em; margin: 0 0.25em; line-height: 1; border-radius: 0.35em;\">\n",
       "    Super Bowl\n",
       "    <span style=\"font-size: 0.8em; font-weight: bold; line-height: 1; border-radius: 0.35em; vertical-align: middle; margin-left: 0.5rem\">EVENT</span>\n",
       "</mark>\n",
       " LVI 23-20</div></span>"
      ],
      "text/plain": [
       "<IPython.core.display.HTML object>"
      ]
     },
     "metadata": {},
     "output_type": "display_data"
    }
   ],
   "source": []
  },
  {
   "cell_type": "markdown",
   "id": "3983158e",
   "metadata": {},
   "source": [
    "#### Using a for loop, display the text, lemma, and POS for each token of the same document."
   ]
  },
  {
   "cell_type": "code",
   "execution_count": 86,
   "id": "b99d6220",
   "metadata": {},
   "outputs": [
    {
     "name": "stdout",
     "output_type": "stream",
     "text": [
      "The          DET        det       \n",
      "Los          PROPN      compound  \n",
      "Angeles      PROPN      compound  \n",
      "Rams         PROPN      nsubj     \n",
      "ended        VERB       ROOT      \n",
      "the          DET        det       \n",
      "2021         NUM        nummod    \n",
      "season       NOUN       dobj      \n",
      "atop         ADP        prep      \n",
      "the          DET        det       \n",
      "NFL          PROPN      compound  \n",
      "world        NOUN       pobj      \n",
      ",            PUNCT      punct     \n",
      "as           SCONJ      mark      \n",
      "they         PRON       nsubj     \n",
      "defeated     VERB       advcl     \n",
      "the          DET        det       \n",
      "Cincinnati   PROPN      compound  \n",
      "Bengals      PROPN      dobj      \n",
      "in           ADP        prep      \n",
      "Super        PROPN      compound  \n",
      "Bowl         PROPN      pobj      \n",
      "LVI          PROPN      npadvmod  \n",
      "23           NUM        nummod    \n",
      "-            SYM        punct     \n",
      "20           NUM        prep      \n",
      ".            PUNCT      punct     \n"
     ]
    }
   ],
   "source": [
    "for token in document:\n",
    "    print(f\"{token.text:<12} {token.pos_:<10} {token.dep_:<10}\")\n"
   ]
  },
  {
   "cell_type": "code",
   "execution_count": 17,
   "id": "7dd3598c",
   "metadata": {},
   "outputs": [
    {
     "name": "stdout",
     "output_type": "stream",
     "text": [
      "The         DET       det       \n",
      "Los         PROPN     compound  \n",
      "Angeles     PROPN     compound  \n",
      "Rams        PROPN     nsubj     \n",
      "ended       VERB      ROOT      \n",
      "the         DET       det       \n",
      "2021        NUM       nummod    \n",
      "season      NOUN      dobj      \n",
      "atop        ADP       prep      \n",
      "the         DET       det       \n",
      "NFL         PROPN     compound  \n",
      "world       NOUN      pobj      \n",
      ",           PUNCT     punct     \n",
      "as          SCONJ     mark      \n",
      "they        PRON      nsubj     \n",
      "defeated    VERB      advcl     \n",
      "the         DET       det       \n",
      "Cincinnati  PROPN     compound  \n",
      "Bengals     PROPN     dobj      \n",
      "in          ADP       prep      \n",
      "Super       PROPN     compound  \n",
      "Bowl        PROPN     compound  \n",
      "LVI         PROPN     pobj      \n",
      "23          NUM       npadvmod  \n",
      "-           SYM       punct     \n",
      "20          NUM       prep      \n"
     ]
    }
   ],
   "source": []
  },
  {
   "cell_type": "markdown",
   "id": "af7d9d1d",
   "metadata": {},
   "source": [
    "#### Analyze syntax\n",
    "\n",
    "#### Using chuck.text, get all the nouns in the document"
   ]
  },
  {
   "cell_type": "code",
   "execution_count": 90,
   "id": "ae3fbe30",
   "metadata": {},
   "outputs": [
    {
     "name": "stdout",
     "output_type": "stream",
     "text": [
      "Nouns: ['season', 'world']\n"
     ]
    }
   ],
   "source": [
    "nouns = [token.text for token in document if token.pos_ == \"NOUN\"]\n",
    "print(\"Nouns:\", nouns)"
   ]
  },
  {
   "cell_type": "markdown",
   "id": "a51439a2",
   "metadata": {},
   "source": [
    "#### print all the verbs"
   ]
  },
  {
   "cell_type": "code",
   "execution_count": 93,
   "id": "d0c219ea",
   "metadata": {},
   "outputs": [
    {
     "name": "stdout",
     "output_type": "stream",
     "text": [
      "Verbs: ['ended', 'defeated']\n"
     ]
    }
   ],
   "source": [
    "verbs = [token.text for token in document if token.pos_ == \"VERB\"]\n",
    "print(\"Verbs:\", verbs)"
   ]
  },
  {
   "cell_type": "markdown",
   "id": "0efae55c",
   "metadata": {},
   "source": [
    "#### Using a for llop, find named entities, phrases and conceps from the same document"
   ]
  },
  {
   "cell_type": "code",
   "execution_count": 96,
   "id": "b364438a",
   "metadata": {},
   "outputs": [
    {
     "name": "stdout",
     "output_type": "stream",
     "text": [
      "Named Entities:\n",
      "The Los Angeles Rams - ORG\n",
      "the 2021 season - DATE\n",
      "NFL - ORG\n",
      "the Cincinnati Bengals - ORG\n",
      "Super Bowl - EVENT\n",
      "23 - CARDINAL\n",
      "\n",
      "Noun Phrases:\n",
      "The Los Angeles Rams\n",
      "the 2021 season\n",
      "the NFL world\n",
      "they\n",
      "the Cincinnati Bengals\n",
      "Super Bowl\n"
     ]
    }
   ],
   "source": [
    "print(\"Named Entities:\")\n",
    "for ent in document.ents:\n",
    "    print(f\"{ent.text} - {ent.label_}\")\n",
    "\n",
    "\n",
    "print(\"\\nNoun Phrases:\")\n",
    "for chunk in document.noun_chunks:\n",
    "    print(chunk.text)\n"
   ]
  },
  {
   "cell_type": "markdown",
   "id": "06df1aea",
   "metadata": {},
   "source": [
    "#### Create a new document with this text, and call it document2\n",
    "\n",
    "One year ago, the Lakers won the 2020 NBA championship. \n",
    "It is really strange acknowledging that in one year, two NBA teams have been crowned Champions"
   ]
  },
  {
   "cell_type": "code",
   "execution_count": 98,
   "id": "ea5a9d5f",
   "metadata": {},
   "outputs": [],
   "source": [
    "document2 = nlp(\"One year ago, the Lakers won the 2020 NBA championship. \"\n",
    "                 \"It is really strange acknowledging that in one year, \"\n",
    "                 \"two NBA teams have been crowned Champions.\")\n"
   ]
  },
  {
   "cell_type": "markdown",
   "id": "30e728b3",
   "metadata": {},
   "source": [
    "#### import Path from pathlib"
   ]
  },
  {
   "cell_type": "code",
   "execution_count": 104,
   "id": "06f29a9a",
   "metadata": {},
   "outputs": [],
   "source": [
    "from pathlib import Path"
   ]
  },
  {
   "cell_type": "markdown",
   "id": "df43a5f2",
   "metadata": {},
   "source": [
    "#### Using a for loop, display the text, lemma, and POS for each token of document2"
   ]
  },
  {
   "cell_type": "code",
   "execution_count": 107,
   "id": "61fa1ad2",
   "metadata": {},
   "outputs": [
    {
     "name": "stdout",
     "output_type": "stream",
     "text": [
      "\n",
      "Tokens in document2:\n",
      "One          one          NUM       \n",
      "year         year         NOUN      \n",
      "ago          ago          ADV       \n",
      ",            ,            PUNCT     \n",
      "the          the          DET       \n",
      "Lakers       Lakers       PROPN     \n",
      "won          win          VERB      \n",
      "the          the          DET       \n",
      "2020         2020         NUM       \n",
      "NBA          NBA          PROPN     \n",
      "championship championship NOUN      \n",
      ".            .            PUNCT     \n",
      "It           it           PRON      \n",
      "is           be           AUX       \n",
      "really       really       ADV       \n",
      "strange      strange      ADJ       \n",
      "acknowledging acknowledge  VERB      \n",
      "that         that         SCONJ     \n",
      "in           in           ADP       \n",
      "one          one          NUM       \n",
      "year         year         NOUN      \n",
      ",            ,            PUNCT     \n",
      "two          two          NUM       \n",
      "NBA          NBA          PROPN     \n",
      "teams        team         NOUN      \n",
      "have         have         AUX       \n",
      "been         be           AUX       \n",
      "crowned      crown        VERB      \n",
      "Champions    Champions    PROPN     \n",
      ".            .            PUNCT     \n"
     ]
    }
   ],
   "source": [
    "print(\"\\nTokens in document2:\")\n",
    "for token in document2:\n",
    "    print(f\"{token.text:<12} {token.lemma_:<12} {token.pos_:<10}\")\n"
   ]
  },
  {
   "cell_type": "markdown",
   "id": "1f2a1c83",
   "metadata": {},
   "source": [
    "#### Before you check the similarity of both documents, do you believe that they are similar?"
   ]
  },
  {
   "cell_type": "markdown",
   "id": "c9dd4abc-ced7-49ec-92d2-7f7f2a296936",
   "metadata": {},
   "source": [
    "The two documents share a common theme of sports, specifically focusing on basketball and the NBA, though they discuss different teams and events. One document highlights the Los Angeles Rams and their 2021 season, while the other centers on the Lakers' 2020 NBA championship. Both mention specific timeframes related to their events, adding to their contextual similarity. They also feature named entities that relate to the sports world, creating a superficial connection. However, despite these similarities, the content and focus of each document are distinct. Therefore, while there is a thematic link, they are not highly similar overall."
   ]
  },
  {
   "cell_type": "markdown",
   "id": "2439f155",
   "metadata": {},
   "source": [
    "#### Check the similarity between document and document2"
   ]
  },
  {
   "cell_type": "code",
   "execution_count": 115,
   "id": "50e2dc58",
   "metadata": {},
   "outputs": [
    {
     "name": "stdout",
     "output_type": "stream",
     "text": [
      "\n",
      "Similarity Score: 0.5530623898714838\n"
     ]
    }
   ],
   "source": [
    "similarity = document.similarity(document2)\n",
    "print(\"\\nSimilarity Score:\", similarity)\n"
   ]
  },
  {
   "cell_type": "markdown",
   "id": "038f8fb2",
   "metadata": {},
   "source": [
    "#### Do you agree wiht the result of the similarity and why?"
   ]
  },
  {
   "cell_type": "markdown",
   "id": "36174190-69ef-42b8-9879-586f4ee84867",
   "metadata": {},
   "source": [
    "I agree with the similarity score of approximately 0.55. This score suggests a moderate level of similarity between the two documents. Both texts revolve around basketball, mentioning specific teams and events within the NBA, which contributes to their thematic connection. However, they focus on different teams (the Los Angeles Rams and the Lakers) and distinct events (the Rams' 2021 season versus the Lakers' 2020 championship), leading to some divergence in content. The moderate score reflects this balance of shared themes and differences in focus, indicating they are related but not identical in substance."
   ]
  },
  {
   "cell_type": "markdown",
   "id": "155179e7",
   "metadata": {},
   "source": [
    "#### Visualize the named entities of both documents, document and document2"
   ]
  },
  {
   "cell_type": "code",
   "execution_count": 120,
   "id": "7c0cf4fc",
   "metadata": {},
   "outputs": [
    {
     "data": {
      "text/html": [
       "<span class=\"tex2jax_ignore\"><div class=\"entities\" style=\"line-height: 2.5; direction: ltr\">\n",
       "<mark class=\"entity\" style=\"background: #7aecec; padding: 0.45em 0.6em; margin: 0 0.25em; line-height: 1; border-radius: 0.35em;\">\n",
       "    The Los Angeles Rams\n",
       "    <span style=\"font-size: 0.8em; font-weight: bold; line-height: 1; border-radius: 0.35em; vertical-align: middle; margin-left: 0.5rem\">ORG</span>\n",
       "</mark>\n",
       " ended \n",
       "<mark class=\"entity\" style=\"background: #bfe1d9; padding: 0.45em 0.6em; margin: 0 0.25em; line-height: 1; border-radius: 0.35em;\">\n",
       "    the 2021 season\n",
       "    <span style=\"font-size: 0.8em; font-weight: bold; line-height: 1; border-radius: 0.35em; vertical-align: middle; margin-left: 0.5rem\">DATE</span>\n",
       "</mark>\n",
       " atop the \n",
       "<mark class=\"entity\" style=\"background: #7aecec; padding: 0.45em 0.6em; margin: 0 0.25em; line-height: 1; border-radius: 0.35em;\">\n",
       "    NFL\n",
       "    <span style=\"font-size: 0.8em; font-weight: bold; line-height: 1; border-radius: 0.35em; vertical-align: middle; margin-left: 0.5rem\">ORG</span>\n",
       "</mark>\n",
       " world, as they defeated \n",
       "<mark class=\"entity\" style=\"background: #7aecec; padding: 0.45em 0.6em; margin: 0 0.25em; line-height: 1; border-radius: 0.35em;\">\n",
       "    the Cincinnati Bengals\n",
       "    <span style=\"font-size: 0.8em; font-weight: bold; line-height: 1; border-radius: 0.35em; vertical-align: middle; margin-left: 0.5rem\">ORG</span>\n",
       "</mark>\n",
       " in \n",
       "<mark class=\"entity\" style=\"background: #ffeb80; padding: 0.45em 0.6em; margin: 0 0.25em; line-height: 1; border-radius: 0.35em;\">\n",
       "    Super Bowl\n",
       "    <span style=\"font-size: 0.8em; font-weight: bold; line-height: 1; border-radius: 0.35em; vertical-align: middle; margin-left: 0.5rem\">EVENT</span>\n",
       "</mark>\n",
       " LVI \n",
       "<mark class=\"entity\" style=\"background: #e4e7d2; padding: 0.45em 0.6em; margin: 0 0.25em; line-height: 1; border-radius: 0.35em;\">\n",
       "    23\n",
       "    <span style=\"font-size: 0.8em; font-weight: bold; line-height: 1; border-radius: 0.35em; vertical-align: middle; margin-left: 0.5rem\">CARDINAL</span>\n",
       "</mark>\n",
       "-20.</div></span>"
      ],
      "text/plain": [
       "<IPython.core.display.HTML object>"
      ]
     },
     "metadata": {},
     "output_type": "display_data"
    },
    {
     "data": {
      "text/html": [
       "<span class=\"tex2jax_ignore\"><div class=\"entities\" style=\"line-height: 2.5; direction: ltr\">\n",
       "<mark class=\"entity\" style=\"background: #bfe1d9; padding: 0.45em 0.6em; margin: 0 0.25em; line-height: 1; border-radius: 0.35em;\">\n",
       "    One year ago\n",
       "    <span style=\"font-size: 0.8em; font-weight: bold; line-height: 1; border-radius: 0.35em; vertical-align: middle; margin-left: 0.5rem\">DATE</span>\n",
       "</mark>\n",
       ", the \n",
       "<mark class=\"entity\" style=\"background: #aa9cfc; padding: 0.45em 0.6em; margin: 0 0.25em; line-height: 1; border-radius: 0.35em;\">\n",
       "    Lakers\n",
       "    <span style=\"font-size: 0.8em; font-weight: bold; line-height: 1; border-radius: 0.35em; vertical-align: middle; margin-left: 0.5rem\">PERSON</span>\n",
       "</mark>\n",
       " won the \n",
       "<mark class=\"entity\" style=\"background: #bfe1d9; padding: 0.45em 0.6em; margin: 0 0.25em; line-height: 1; border-radius: 0.35em;\">\n",
       "    2020\n",
       "    <span style=\"font-size: 0.8em; font-weight: bold; line-height: 1; border-radius: 0.35em; vertical-align: middle; margin-left: 0.5rem\">DATE</span>\n",
       "</mark>\n",
       " \n",
       "<mark class=\"entity\" style=\"background: #7aecec; padding: 0.45em 0.6em; margin: 0 0.25em; line-height: 1; border-radius: 0.35em;\">\n",
       "    NBA\n",
       "    <span style=\"font-size: 0.8em; font-weight: bold; line-height: 1; border-radius: 0.35em; vertical-align: middle; margin-left: 0.5rem\">ORG</span>\n",
       "</mark>\n",
       " championship. It is really strange acknowledging that in \n",
       "<mark class=\"entity\" style=\"background: #bfe1d9; padding: 0.45em 0.6em; margin: 0 0.25em; line-height: 1; border-radius: 0.35em;\">\n",
       "    one year\n",
       "    <span style=\"font-size: 0.8em; font-weight: bold; line-height: 1; border-radius: 0.35em; vertical-align: middle; margin-left: 0.5rem\">DATE</span>\n",
       "</mark>\n",
       ", \n",
       "<mark class=\"entity\" style=\"background: #e4e7d2; padding: 0.45em 0.6em; margin: 0 0.25em; line-height: 1; border-radius: 0.35em;\">\n",
       "    two\n",
       "    <span style=\"font-size: 0.8em; font-weight: bold; line-height: 1; border-radius: 0.35em; vertical-align: middle; margin-left: 0.5rem\">CARDINAL</span>\n",
       "</mark>\n",
       " \n",
       "<mark class=\"entity\" style=\"background: #7aecec; padding: 0.45em 0.6em; margin: 0 0.25em; line-height: 1; border-radius: 0.35em;\">\n",
       "    NBA\n",
       "    <span style=\"font-size: 0.8em; font-weight: bold; line-height: 1; border-radius: 0.35em; vertical-align: middle; margin-left: 0.5rem\">ORG</span>\n",
       "</mark>\n",
       " teams have been crowned \n",
       "<mark class=\"entity\" style=\"background: #7aecec; padding: 0.45em 0.6em; margin: 0 0.25em; line-height: 1; border-radius: 0.35em;\">\n",
       "    Champions\n",
       "    <span style=\"font-size: 0.8em; font-weight: bold; line-height: 1; border-radius: 0.35em; vertical-align: middle; margin-left: 0.5rem\">ORG</span>\n",
       "</mark>\n",
       ".</div></span>"
      ],
      "text/plain": [
       "<IPython.core.display.HTML object>"
      ]
     },
     "metadata": {},
     "output_type": "display_data"
    }
   ],
   "source": [
    "displacy.render(document, style=\"ent\", jupyter=True)\n",
    "\n",
    "displacy.render(document2, style=\"ent\", jupyter=True)\n"
   ]
  },
  {
   "cell_type": "code",
   "execution_count": 25,
   "id": "e99b0aae",
   "metadata": {},
   "outputs": [
    {
     "data": {
      "text/html": [
       "<span class=\"tex2jax_ignore\"><div class=\"entities\" style=\"line-height: 2.5; direction: ltr\">\n",
       "<mark class=\"entity\" style=\"background: #7aecec; padding: 0.45em 0.6em; margin: 0 0.25em; line-height: 1; border-radius: 0.35em;\">\n",
       "    The Los Angeles Rams\n",
       "    <span style=\"font-size: 0.8em; font-weight: bold; line-height: 1; border-radius: 0.35em; vertical-align: middle; margin-left: 0.5rem\">ORG</span>\n",
       "</mark>\n",
       " ended the \n",
       "<mark class=\"entity\" style=\"background: #bfe1d9; padding: 0.45em 0.6em; margin: 0 0.25em; line-height: 1; border-radius: 0.35em;\">\n",
       "    2021\n",
       "    <span style=\"font-size: 0.8em; font-weight: bold; line-height: 1; border-radius: 0.35em; vertical-align: middle; margin-left: 0.5rem\">DATE</span>\n",
       "</mark>\n",
       " season atop the \n",
       "<mark class=\"entity\" style=\"background: #7aecec; padding: 0.45em 0.6em; margin: 0 0.25em; line-height: 1; border-radius: 0.35em;\">\n",
       "    NFL\n",
       "    <span style=\"font-size: 0.8em; font-weight: bold; line-height: 1; border-radius: 0.35em; vertical-align: middle; margin-left: 0.5rem\">ORG</span>\n",
       "</mark>\n",
       " world, as they defeated \n",
       "<mark class=\"entity\" style=\"background: #7aecec; padding: 0.45em 0.6em; margin: 0 0.25em; line-height: 1; border-radius: 0.35em;\">\n",
       "    the Cincinnati Bengals\n",
       "    <span style=\"font-size: 0.8em; font-weight: bold; line-height: 1; border-radius: 0.35em; vertical-align: middle; margin-left: 0.5rem\">ORG</span>\n",
       "</mark>\n",
       " in \n",
       "<mark class=\"entity\" style=\"background: #ffeb80; padding: 0.45em 0.6em; margin: 0 0.25em; line-height: 1; border-radius: 0.35em;\">\n",
       "    Super Bowl\n",
       "    <span style=\"font-size: 0.8em; font-weight: bold; line-height: 1; border-radius: 0.35em; vertical-align: middle; margin-left: 0.5rem\">EVENT</span>\n",
       "</mark>\n",
       " LVI 23-20</div></span>"
      ],
      "text/plain": [
       "<IPython.core.display.HTML object>"
      ]
     },
     "metadata": {},
     "output_type": "display_data"
    }
   ],
   "source": []
  },
  {
   "cell_type": "code",
   "execution_count": null,
   "id": "8e45f953",
   "metadata": {},
   "outputs": [],
   "source": []
  },
  {
   "cell_type": "code",
   "execution_count": 26,
   "id": "45fee46d",
   "metadata": {},
   "outputs": [
    {
     "data": {
      "text/html": [
       "<span class=\"tex2jax_ignore\"><div class=\"entities\" style=\"line-height: 2.5; direction: ltr\">\n",
       "<mark class=\"entity\" style=\"background: #bfe1d9; padding: 0.45em 0.6em; margin: 0 0.25em; line-height: 1; border-radius: 0.35em;\">\n",
       "    One year ago\n",
       "    <span style=\"font-size: 0.8em; font-weight: bold; line-height: 1; border-radius: 0.35em; vertical-align: middle; margin-left: 0.5rem\">DATE</span>\n",
       "</mark>\n",
       ", the \n",
       "<mark class=\"entity\" style=\"background: #aa9cfc; padding: 0.45em 0.6em; margin: 0 0.25em; line-height: 1; border-radius: 0.35em;\">\n",
       "    Lakers\n",
       "    <span style=\"font-size: 0.8em; font-weight: bold; line-height: 1; border-radius: 0.35em; vertical-align: middle; margin-left: 0.5rem\">PERSON</span>\n",
       "</mark>\n",
       " won the \n",
       "<mark class=\"entity\" style=\"background: #bfe1d9; padding: 0.45em 0.6em; margin: 0 0.25em; line-height: 1; border-radius: 0.35em;\">\n",
       "    2020\n",
       "    <span style=\"font-size: 0.8em; font-weight: bold; line-height: 1; border-radius: 0.35em; vertical-align: middle; margin-left: 0.5rem\">DATE</span>\n",
       "</mark>\n",
       " NBA championship.It is really strange acknowledging that in \n",
       "<mark class=\"entity\" style=\"background: #bfe1d9; padding: 0.45em 0.6em; margin: 0 0.25em; line-height: 1; border-radius: 0.35em;\">\n",
       "    one year\n",
       "    <span style=\"font-size: 0.8em; font-weight: bold; line-height: 1; border-radius: 0.35em; vertical-align: middle; margin-left: 0.5rem\">DATE</span>\n",
       "</mark>\n",
       ", \n",
       "<mark class=\"entity\" style=\"background: #e4e7d2; padding: 0.45em 0.6em; margin: 0 0.25em; line-height: 1; border-radius: 0.35em;\">\n",
       "    two\n",
       "    <span style=\"font-size: 0.8em; font-weight: bold; line-height: 1; border-radius: 0.35em; vertical-align: middle; margin-left: 0.5rem\">CARDINAL</span>\n",
       "</mark>\n",
       " \n",
       "<mark class=\"entity\" style=\"background: #7aecec; padding: 0.45em 0.6em; margin: 0 0.25em; line-height: 1; border-radius: 0.35em;\">\n",
       "    NBA\n",
       "    <span style=\"font-size: 0.8em; font-weight: bold; line-height: 1; border-radius: 0.35em; vertical-align: middle; margin-left: 0.5rem\">ORG</span>\n",
       "</mark>\n",
       " teams have been crowned Champions</div></span>"
      ],
      "text/plain": [
       "<IPython.core.display.HTML object>"
      ]
     },
     "metadata": {},
     "output_type": "display_data"
    }
   ],
   "source": []
  },
  {
   "cell_type": "markdown",
   "id": "2c7a7c71",
   "metadata": {},
   "source": [
    "#### get the 20th token of the document2"
   ]
  },
  {
   "cell_type": "code",
   "execution_count": 129,
   "id": "7c9ca13c",
   "metadata": {},
   "outputs": [
    {
     "name": "stdout",
     "output_type": "stream",
     "text": [
      "Index: 20, Token: year\n"
     ]
    }
   ],
   "source": [
    "for i, token in enumerate(document2):\n",
    "    if i == 20:\n",
    "        print(f\"Index: {i}, Token: {token.text}\")\n"
   ]
  },
  {
   "cell_type": "code",
   "execution_count": 27,
   "id": "22b82ff5",
   "metadata": {},
   "outputs": [
    {
     "name": "stdout",
     "output_type": "stream",
     "text": [
      "year\n"
     ]
    }
   ],
   "source": []
  },
  {
   "cell_type": "markdown",
   "id": "dc8a279e",
   "metadata": {},
   "source": [
    "#### Write a function with one parameter to display basic entity info. Use an if else statement and a for loop. If no entities are found, display \"No named entities found\""
   ]
  },
  {
   "cell_type": "code",
   "execution_count": 131,
   "id": "8aecbccf",
   "metadata": {},
   "outputs": [],
   "source": [
    "def show_ents(doc):\n",
    "    if doc.ents:  \n",
    "        for ent in doc.ents:  \n",
    "            print(f\"Entity: {ent.text}, Label: {ent.label_}\")  \n",
    "    else:\n",
    "        print(\"No named entities found\")    \n",
    "    \n",
    "    "
   ]
  },
  {
   "cell_type": "markdown",
   "id": "62d11215",
   "metadata": {},
   "source": [
    "#### call the fucntion using document2 as a parameter"
   ]
  },
  {
   "cell_type": "code",
   "execution_count": 133,
   "id": "629b7a96",
   "metadata": {},
   "outputs": [
    {
     "name": "stdout",
     "output_type": "stream",
     "text": [
      "Entity: One year ago, Label: DATE\n",
      "Entity: Lakers, Label: PERSON\n",
      "Entity: 2020, Label: DATE\n",
      "Entity: NBA, Label: ORG\n",
      "Entity: one year, Label: DATE\n",
      "Entity: two, Label: CARDINAL\n",
      "Entity: NBA, Label: ORG\n",
      "Entity: Champions, Label: ORG\n"
     ]
    }
   ],
   "source": [
    "show_ents(document2) \n"
   ]
  },
  {
   "cell_type": "markdown",
   "id": "7fbc1cf0",
   "metadata": {},
   "source": [
    "#### Using a for loop and \"ent.text\" extract the text, start, end, start_char, end_char, and ent_label from document2 "
   ]
  },
  {
   "cell_type": "code",
   "execution_count": 136,
   "id": "c92c864a",
   "metadata": {},
   "outputs": [
    {
     "name": "stdout",
     "output_type": "stream",
     "text": [
      "One year ago 0 3 0 12 DATE\n",
      "Lakers 5 6 18 24 PERSON\n",
      "2020 8 9 33 37 DATE\n",
      "NBA 9 10 38 41 ORG\n",
      "one year 19 21 99 107 DATE\n",
      "two 22 23 109 112 CARDINAL\n",
      "NBA 23 24 113 116 ORG\n",
      "Champions 28 29 141 150 ORG\n"
     ]
    }
   ],
   "source": [
    "for ent in document2.ents:\n",
    "    print(ent.text, ent.start, ent.end, ent.start_char, ent.end_char, ent.label_)"
   ]
  },
  {
   "cell_type": "markdown",
   "id": "fb371918",
   "metadata": {},
   "source": [
    "#### Counting Entities"
   ]
  },
  {
   "cell_type": "markdown",
   "id": "ca24ecdb",
   "metadata": {},
   "source": [
    "#### pass a conditional statement into a list comprehension <br> hint: use show_ents(document2)"
   ]
  },
  {
   "cell_type": "code",
   "execution_count": 139,
   "id": "ce97ee9d",
   "metadata": {
    "scrolled": true
   },
   "outputs": [
    {
     "name": "stdout",
     "output_type": "stream",
     "text": [
      "Label: DATE, Count: 3\n",
      "Label: PERSON, Count: 1\n",
      "Label: ORG, Count: 3\n",
      "Label: CARDINAL, Count: 1\n"
     ]
    }
   ],
   "source": [
    "entity_counts = {ent.label_: sum(1 for _ in document2.ents if _.label_ == ent.label_) for ent in document2.ents}\n",
    "\n",
    "for label, count in entity_counts.items():\n",
    "    print(f\"Label: {label}, Count: {count}\")\n"
   ]
  },
  {
   "cell_type": "markdown",
   "id": "93989b41",
   "metadata": {},
   "source": [
    "#### Use the len function to count to number of organizaitons (ORG) in document2"
   ]
  },
  {
   "cell_type": "code",
   "execution_count": 142,
   "id": "2ece3307",
   "metadata": {},
   "outputs": [
    {
     "name": "stdout",
     "output_type": "stream",
     "text": [
      "Number of organizations (ORG) in document2: 3\n"
     ]
    }
   ],
   "source": [
    "org_count = len([ent for ent in document2.ents if ent.label_ == \"ORG\"])\n",
    "\n",
    "\n",
    "print(f\"Number of organizations (ORG) in document2: {org_count}\")\n"
   ]
  },
  {
   "cell_type": "markdown",
   "id": "132ab1f7",
   "metadata": {},
   "source": [
    "## Customizing Colors and Effects\n",
    "You can also pass background color and gradient options:"
   ]
  },
  {
   "cell_type": "markdown",
   "id": "fcca51aa",
   "metadata": {},
   "source": [
    "### Using a custom color, display the entities 'ORG' and 'DATE' from document2"
   ]
  },
  {
   "cell_type": "code",
   "execution_count": 146,
   "id": "46b42bb1",
   "metadata": {},
   "outputs": [
    {
     "data": {
      "text/html": [
       "<span class=\"tex2jax_ignore\"><div class=\"entities\" style=\"line-height: 2.5; direction: ltr\">\n",
       "<mark class=\"entity\" style=\"background: lightgreen; padding: 0.45em 0.6em; margin: 0 0.25em; line-height: 1; border-radius: 0.35em;\">\n",
       "    One year ago\n",
       "    <span style=\"font-size: 0.8em; font-weight: bold; line-height: 1; border-radius: 0.35em; vertical-align: middle; margin-left: 0.5rem\">DATE</span>\n",
       "</mark>\n",
       ", the Lakers won the \n",
       "<mark class=\"entity\" style=\"background: lightgreen; padding: 0.45em 0.6em; margin: 0 0.25em; line-height: 1; border-radius: 0.35em;\">\n",
       "    2020\n",
       "    <span style=\"font-size: 0.8em; font-weight: bold; line-height: 1; border-radius: 0.35em; vertical-align: middle; margin-left: 0.5rem\">DATE</span>\n",
       "</mark>\n",
       " \n",
       "<mark class=\"entity\" style=\"background: lightblue; padding: 0.45em 0.6em; margin: 0 0.25em; line-height: 1; border-radius: 0.35em;\">\n",
       "    NBA\n",
       "    <span style=\"font-size: 0.8em; font-weight: bold; line-height: 1; border-radius: 0.35em; vertical-align: middle; margin-left: 0.5rem\">ORG</span>\n",
       "</mark>\n",
       " championship. It is really strange acknowledging that in \n",
       "<mark class=\"entity\" style=\"background: lightgreen; padding: 0.45em 0.6em; margin: 0 0.25em; line-height: 1; border-radius: 0.35em;\">\n",
       "    one year\n",
       "    <span style=\"font-size: 0.8em; font-weight: bold; line-height: 1; border-radius: 0.35em; vertical-align: middle; margin-left: 0.5rem\">DATE</span>\n",
       "</mark>\n",
       ", two \n",
       "<mark class=\"entity\" style=\"background: lightblue; padding: 0.45em 0.6em; margin: 0 0.25em; line-height: 1; border-radius: 0.35em;\">\n",
       "    NBA\n",
       "    <span style=\"font-size: 0.8em; font-weight: bold; line-height: 1; border-radius: 0.35em; vertical-align: middle; margin-left: 0.5rem\">ORG</span>\n",
       "</mark>\n",
       " teams have been crowned \n",
       "<mark class=\"entity\" style=\"background: lightblue; padding: 0.45em 0.6em; margin: 0 0.25em; line-height: 1; border-radius: 0.35em;\">\n",
       "    Champions\n",
       "    <span style=\"font-size: 0.8em; font-weight: bold; line-height: 1; border-radius: 0.35em; vertical-align: middle; margin-left: 0.5rem\">ORG</span>\n",
       "</mark>\n",
       ".</div></span>"
      ],
      "text/plain": [
       "<IPython.core.display.HTML object>"
      ]
     },
     "metadata": {},
     "output_type": "display_data"
    }
   ],
   "source": [
    "from spacy import displacy\n",
    "\n",
    "\n",
    "options = {\n",
    "    \"ents\": [\"ORG\", \"DATE\"],  \n",
    "    \"colors\": {\n",
    "        \"ORG\": \"lightblue\",    \n",
    "        \"DATE\": \"lightgreen\"   \n",
    "    },\n",
    "}\n",
    "\n",
    "\n",
    "displacy.render(document2, style=\"ent\", options=options)"
   ]
  },
  {
   "cell_type": "code",
   "execution_count": null,
   "id": "405966fd",
   "metadata": {},
   "outputs": [],
   "source": []
  }
 ],
 "metadata": {
  "kernelspec": {
   "display_name": "Python 3 (ipykernel)",
   "language": "python",
   "name": "python3"
  },
  "language_info": {
   "codemirror_mode": {
    "name": "ipython",
    "version": 3
   },
   "file_extension": ".py",
   "mimetype": "text/x-python",
   "name": "python",
   "nbconvert_exporter": "python",
   "pygments_lexer": "ipython3",
   "version": "3.11.7"
  }
 },
 "nbformat": 4,
 "nbformat_minor": 5
}
